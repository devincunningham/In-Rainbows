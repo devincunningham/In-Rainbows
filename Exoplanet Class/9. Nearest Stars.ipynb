{
 "cells": [
  {
   "cell_type": "code",
   "execution_count": 1,
   "metadata": {
    "collapsed": true
   },
   "outputs": [],
   "source": [
    "import numpy as np"
   ]
  },
  {
   "cell_type": "code",
   "execution_count": 10,
   "metadata": {},
   "outputs": [
    {
     "name": "stdout",
     "output_type": "stream",
     "text": [
      "You require a resolution of 41957.0096093 arcseconds to see a planet around Sun\n",
      "You require a resolution of 0.771452802498 arcseconds to see a planet around Alpha_Centauri\n",
      "You require a resolution of 0.556585075628 arcseconds to see a planet around Barnards_Star\n",
      "You require a resolution of 0.510345700114 arcseconds to see a planet around WISE_1049_5319\n",
      "You require a resolution of 0.42638136899 arcseconds to see a planet around Wolf_359\n",
      "You require a resolution of 0.399668319366 arcseconds to see a planet around Lalande_21185\n",
      "You require a resolution of 0.386625530389 arcseconds to see a planet around Sirius\n",
      "You require a resolution of 0.379982480039 arcseconds to see a planet around Luyten_726\n",
      "You require a resolution of 0.342690811027 arcseconds to see a planet around Ross_154\n",
      "You require a resolution of 0.321438667707 arcseconds to see a planet around Ross_248\n",
      "You require a resolution of 0.31532766642 arcseconds to see a planet around WISE_1506_7027\n",
      "You require a resolution of 0.31532766642 arcseconds to see a planet around Epsilon_Eridani\n",
      "You require a resolution of 0.308868440479 arcseconds to see a planet around Lacaille_9352\n",
      "You require a resolution of 0.303777202449 arcseconds to see a planet around Ross_128\n",
      "You require a resolution of 0.294604533813 arcseconds to see a planet around EZ_Aquarii\n",
      "You require a resolution of 0.290986583398 arcseconds to see a planet around Procyon_A\n",
      "You require a resolution of 0.290986583398 arcseconds to see a planet around Cygni_A\n",
      "You require a resolution of 0.287955473155 arcseconds to see a planet around Struve_2398_A\n",
      "You require a resolution of 0.285477370976 arcseconds to see a planet around Groombridge_34_A\n",
      "You require a resolution of 0.280646958607 arcseconds to see a planet around Epsilon_Indi\n",
      "You require a resolution of 0.280646958607 arcseconds to see a planet around DX_Cancri\n",
      "You require a resolution of 0.279229549726 arcseconds to see a planet around Tau_Ceti\n",
      "You require a resolution of 0.278292537814 arcseconds to see a planet around GJ_1061\n",
      "You require a resolution of 0.273474612592 arcseconds to see a planet around YZ_Ceti\n",
      "You require a resolution of 0.268385683717 arcseconds to see a planet around Luytens_Star\n",
      "You require a resolution of 0.442299606765 arcseconds to see a planet around Teegardens_star\n",
      "You require a resolution of 0.259768758868 arcseconds to see a planet around Kapteyns_Star\n",
      "You require a resolution of 0.257950781551 arcseconds to see a planet around AX_Microscopium\n",
      "You require a resolution of 0.252454113451 arcseconds to see a planet around Kruger_60\n",
      "You require a resolution of 0.248669194208 arcseconds to see a planet around Ross_614\n",
      "You require a resolution of 0.240206158634 arcseconds to see a planet around Gl_628\n",
      "You require a resolution of 0.23593506762 arcseconds to see a planet around Gl_35\n",
      "You require a resolution of 0.233280383315 arcseconds to see a planet around Gl_15\n",
      "You require a resolution of 0.231975318234 arcseconds to see a planet around Wolf_424\n"
     ]
    }
   ],
   "source": [
    "AU = 1.52e11\n",
    "jupiter_diameter = 2.0 * 7e7\n",
    "\n",
    "names = np.array(['Sun', 'Alpha_Centauri', 'Barnards_Star', 'WISE_1049_5319', 'Wolf_359',\n",
    "                  'Lalande_21185', 'Sirius', 'Luyten_726', 'Ross_154', 'Ross_248', 'WISE_1506_7027',\n",
    "                  'Epsilon_Eridani', 'Lacaille_9352', 'Ross_128', 'EZ_Aquarii', 'Procyon_A',\n",
    "                  'Cygni_A' , 'Struve_2398_A', 'Groombridge_34_A', 'Epsilon_Indi', 'DX_Cancri' ,\n",
    "                  'Tau_Ceti', 'GJ_1061', 'YZ_Ceti', 'Luytens_Star', 'Teegardens_star', 'Kapteyns_Star',\n",
    "                  'AX_Microscopium', 'Kruger_60' , 'Ross_614' , 'Gl_628' , 'Gl_35', 'Gl_15', 'Wolf_424'])\n",
    "distance = np.array([7.9063e-5, 4.3, 5.96, 6.5, 7.78, 8.3, 8.58, 8.73, 9.68, 10.32, 10.52, 10.52, 10.74,\n",
    "                     10.92, 11.26, 11.4, 11.4, 11.52, 11.62, 11.82, 11.82, 11.88, 11.92, 12.13, 12.36,\n",
    "                     7.5, 12.77, 12.86, 13.14, 13.34, 13.81, 14.06, 14.22, 14.30]) * 9.46e15\n",
    "\n",
    "for i, val in enumerate(distance):\n",
    "    print \"You require a resolution of\", (AU + jupiter_diameter) / val * 2.06265e5,\\\n",
    "          \"arcseconds to see a planet around {}\".format(names[i])"
   ]
  },
  {
   "cell_type": "markdown",
   "metadata": {},
   "source": [
    "Although this resolution is very small, astronomers have been able to confirm exoplanets on this list using radial transit methods. Particularly interesting are those around Alpha Centauri (they are the nearest exoplanets), but exoplanets have also been found around Tau Ceti and YZ Ceti."
   ]
  }
 ],
 "metadata": {
  "kernelspec": {
   "display_name": "Python 2",
   "language": "python",
   "name": "python2"
  },
  "language_info": {
   "codemirror_mode": {
    "name": "ipython",
    "version": 2
   },
   "file_extension": ".py",
   "mimetype": "text/x-python",
   "name": "python",
   "nbconvert_exporter": "python",
   "pygments_lexer": "ipython2",
   "version": "2.7.13"
  }
 },
 "nbformat": 4,
 "nbformat_minor": 2
}
