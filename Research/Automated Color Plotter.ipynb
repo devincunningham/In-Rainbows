{
 "cells": [
  {
   "cell_type": "code",
   "execution_count": null,
   "metadata": {
    "collapsed": true
   },
   "outputs": [],
   "source": [
    "import numpy as np\n",
    "import matplotlib.pyplot as plt\n",
    "import matplotlib.gridspec as gridspec\n",
    "from scipy.interpolate import UnivariateSpline, interp1d\n",
    "import time\n",
    "import urllib, urllib2"
   ]
  },
  {
   "cell_type": "code",
   "execution_count": null,
   "metadata": {
    "collapsed": true
   },
   "outputs": [],
   "source": [
    "def create_SQL_query(RA, DEC, d):\n",
    "    query_str = '''\n",
    "    SELECT\n",
    "        p.objid, p.ra, p.dec, p.devrad_r, p.fracdev_r, p.exprad_r, s.z as redshift, \n",
    "        p.modelmag_u, p.modelmag_g, p.modelmag_r, p.modelmag_i, p.modelmag_z, \n",
    "        p.petrorad_r, petroR50_r, p.clean \n",
    "    FROM PhotoObj AS p\n",
    "      JOIN dbo.fGetNearbyObjEq({}, {}, {}) AS GN ON p.objID = GN.objID\n",
    "      LEFT JOIN SpecObj AS s ON s.bestobjid = p.objid\n",
    "    WHERE petroR50_r < 3.0\n",
    "      AND ((flags_r & 0x10000000) != 0)\n",
    "      AND ((flags_r & 0x8100000c00a4) = 0)\n",
    "      AND (((flags_r & 0x400000000000) = 0) or (psfmagerr_r <= 0.2))'''.format(RA, DEC, d)\n",
    "    return query_str\n",
    "#       JOIN TwoMass AS m2 ON m2.objID = p.objid\\\n",
    "#       JOIN WISE_xmatch AS wx ON wx.sdss_objid = p.objid\\\n",
    "#       JOIN WISE_allsky AS w ON w.cntr = wx.wise_cntr\\\n",
    "# WHERE s.class = \"STAR\"\\\n",
    "#       AND s.snMedian > 25.0\\\n"
   ]
  },
  {
   "cell_type": "code",
   "execution_count": null,
   "metadata": {
    "collapsed": true
   },
   "outputs": [],
   "source": [
    "def SDSS_request(SQL_query):\n",
    "    # sends SQL query to DR7 SQL search, returns as csv\n",
    "    sURL = 'http://cas.sdss.org/dr7/en/tools/search/x_sql.asp'\n",
    "    values = {'cmd': SQL_query, 'format': 'csv'}\n",
    "    data = urllib.urlencode(values)\n",
    "    request = urllib2.Request(sURL, data)\n",
    "    response = urllib2.urlopen(request)\n",
    "    return response.read()\n",
    "\n",
    "# data = SDSS_request(thequery)\n",
    "# print data"
   ]
  },
  {
   "cell_type": "code",
   "execution_count": null,
   "metadata": {
    "collapsed": true
   },
   "outputs": [],
   "source": [
    "import sys \n",
    "\n",
    "def writer(name,RA,DEC,data):\n",
    "    # Function to write data to a file\n",
    "    f = open(name, 'a')             #defines the file to be opened as appendable\n",
    "    #f.write('\\n' + host + '\\n')     #formatting for hosts\n",
    "    f.write(data)                   #writes in data\n",
    "    f.close()                       #tells python to close file\n",
    "    return writer\n",
    "\n",
    "def colorplotter(RA,DEC,d=.05):\n",
    "    file_name = 'color{:.0f}.csv'.format(time.time())\n",
    "    print 'Creating file:', file_name\n",
    "    the_file = open(file_name, 'w')\n",
    "    the_file.write('objid,ra,dec,devrad_r,fracdev_r,exprad_r,redshift,modelmag_u,modelmag_g,modelmag_r,modelmag_i,modelmag_z,petrorad_r,petroR50_r,clean\\n')\n",
    "    the_file.close()\n",
    "    \n",
    "    query_string = ''\n",
    "    data_string = ''\n",
    "    full_data = ''\n",
    "    for i, val in enumerate(RA):\n",
    "        sys.stdout.write('\\r'+'Retrieving Data: {0:.1f}%'.format((i/np.float(len(RA)))*100.))\n",
    "\n",
    "        query_string = create_SQL_query(RA[i],DEC[i], d)\n",
    "        data_string = SDSS_request(query_string)\n",
    "        \n",
    "        if data_string == 'No objects have been found':\n",
    "            #print 'No objects here.'\n",
    "            continue\n",
    "        else:\n",
    "            split_string = data_string.split('clean\\n')[1]\n",
    "            #print split_string\n",
    "            if split_string in full_data:\n",
    "                continue\n",
    "            else:\n",
    "                full_data += split_string\n",
    "    writer(file_name,RA[i],DEC[i],full_data)\n",
    "    \n",
    "    data = np.genfromtxt('{}'.format(file_name), skip_header=0, names=True, delimiter=',', skip_footer=0, unpack=True);\n",
    "    good_colors = ((data['modelmag_u'] < 26) & (data['modelmag_g'] < 26) & (data['modelmag_r'] < 26) \\\n",
    "                   & (data['modelmag_i'] < 26) & (data['modelmag_z'] < 26) & (data['modelmag_u'] > 0))\n",
    "    u = data['modelmag_u'][good_colors]\n",
    "    g = data['modelmag_g'][good_colors]\n",
    "    r = data['modelmag_r'][good_colors]\n",
    "    i = data['modelmag_i'][good_colors]\n",
    "    z = data['modelmag_z'][good_colors]\n",
    "    redshift = data['redshift'][good_colors]\n",
    "    pet_r = data['petrorad_r'][good_colors]\n",
    "    color_ug = u-g\n",
    "    color_ur = u-r\n",
    "    color_ui = u-i\n",
    "    color_uz = u-z\n",
    "    color_gr = g-r\n",
    "    color_gi = g-i\n",
    "    color_gz = g-z\n",
    "    color_ri = r-i\n",
    "    color_rz = r-z\n",
    "    colors = [color_ug, color_ur, color_ui, color_uz, color_gr, color_gi, color_gz, color_ri, color_rz]\n",
    "    colornames = ['color_ug', 'color_ur', 'color_ui', 'color_uz', 'color_gr', 'color_gi', 'color_gz', 'color_ri', 'color_rz']\n",
    "    height_ratios = [5, 5, 5, 5, 5, 5]\n",
    "    width_ratios = [5, 5, 5, 5, 5, 5]\n",
    "    wspace = 1.25\n",
    "    hspace = 1.25\n",
    "    x = 0\n",
    "    y = 0\n",
    "    fig = plt.figure(figsize=(sum(width_ratios) + wspace *\n",
    "                              (len(width_ratios) - 1),\n",
    "                              sum(height_ratios) + hspace *\n",
    "                              (len(height_ratios) - 1)))\n",
    "    gs = gridspec.GridSpec(len(height_ratios),\n",
    "                           len(width_ratios),\n",
    "                           height_ratios=height_ratios,\n",
    "                           width_ratios=width_ratios)\n",
    "\n",
    "    fig.suptitle('', fontsize=20)\n",
    "    location = 0\n",
    "    for i, icolor in enumerate(colors):\n",
    "        for j, jcolor in enumerate(colors):\n",
    "            if i != j and j > i:\n",
    "                ax = fig.add_subplot(gs[location])\n",
    "                ax.scatter(icolor, jcolor, c='navy',marker='o',alpha='.25', s = 5);\n",
    "#                 fit = np.polyfit(icolor, jcolor, 1)\n",
    "#                 fit = np.poly1d(fit_data_johnson_R)\n",
    "#                 fit_x = np.linspace(min(data_johnson_R['R_in']), max(data_johnson_R['R_in']), 10000)\n",
    "    #             for k, kval in enumerate(name[0]):\n",
    "    #                ax.annotate(kval, xy=(icolor[k],jcolor[k]));\n",
    "                ax.update({'title': '',\n",
    "                            'ylabel': '{}'.format(colornames[j]),\n",
    "                            'xlabel': '{}'.format(colornames[i])})\n",
    "                ax.set_facecolor('whitesmoke')\n",
    "                ax.patch.set_alpha(.25)\n",
    "    #             ax.set_xlim((min(icolor)*.9, max(icolor)*1.1))\n",
    "    #             ax.set_ylim((min(jcolor)*.9, max(jcolor)*1.1))\n",
    "\n",
    "                plt.minorticks_on()\n",
    "                plt.tick_params('both', length=8, which='major')\n",
    "                plt.tick_params('both',length=3, which='minor')\n",
    "                plt.grid(True, which='major', ls='dashed', alpha=.5)\n",
    "                plt.grid(True, which='minor', ls='dashed', alpha=.15)\n",
    "                location += 1\n",
    "    plt.savefig('fig.png')\n",
    "    plt.show()"
   ]
  },
  {
   "cell_type": "code",
   "execution_count": null,
   "metadata": {
    "collapsed": true
   },
   "outputs": [],
   "source": [
    "# chrisdata = np.genfromtxt(\"chrisdata3.txt\", skip_header=0, names=True, delimiter=',', skip_footer=0, unpack=True);"
   ]
  },
  {
   "cell_type": "code",
   "execution_count": null,
   "metadata": {
    "collapsed": true
   },
   "outputs": [],
   "source": [
    "norris = np.genfromtxt('Data.csv', unpack = True, names = True, delimiter = ',')"
   ]
  },
  {
   "cell_type": "code",
   "execution_count": null,
   "metadata": {
    "collapsed": true
   },
   "outputs": [],
   "source": [
    "print norris['ra']"
   ]
  },
  {
   "cell_type": "code",
   "execution_count": null,
   "metadata": {
    "collapsed": true
   },
   "outputs": [],
   "source": [
    "colorplotter(stephdata[1], stephdata[2], d=.002)"
   ]
  }
 ],
 "metadata": {
  "kernelspec": {
   "display_name": "Python 2",
   "language": "python",
   "name": "python2"
  },
  "language_info": {
   "codemirror_mode": {
    "name": "ipython",
    "version": 2
   },
   "file_extension": ".py",
   "mimetype": "text/x-python",
   "name": "python",
   "nbconvert_exporter": "python",
   "pygments_lexer": "ipython2",
   "version": "2.7.13"
  }
 },
 "nbformat": 4,
 "nbformat_minor": 2
}
