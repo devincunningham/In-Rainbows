{
 "cells": [
  {
   "cell_type": "code",
   "execution_count": 41,
   "metadata": {},
   "outputs": [],
   "source": [
    "import aplpy\n",
    "from astropy.coordinates import SkyCoord\n",
    "from astroquery.sdss import SDSS\n",
    "from astropy.wcs import WCS\n",
    "from astropy import coordinates as coords\n",
    "from astropy import units as u\n",
    "from astropy.io import fits\n",
    "from astropy.table import Table\n",
    "import matplotlib.pyplot as plt\n",
    "import matplotlib.gridspec as gridspec\n",
    "import numpy as np\n",
    "import pandas as pd\n",
    "import urllib\n",
    "from urllib import urlretrieve\n",
    "import pyvo as vo\n",
    "import copy\n",
    "import requests\n",
    "import urllib2"
   ]
  },
  {
   "cell_type": "code",
   "execution_count": null,
   "metadata": {
    "collapsed": true
   },
   "outputs": [],
   "source": [
    "urls = ['https://skyview.gsfc.nasa.gov/cgi-bin/vo/sia.pl?survey=nvss&',\n",
    "        ]\n",
    "for i, (url, fitsimage) in enumerate(zip())\n",
    "query = vo.sia.SIAQuery('https://skyview.gsfc.nasa.gov/cgi-bin/vo/sia.pl?survey=nvss&',\n",
    "                            pos=(myLocation.ra.deg, myLocation.dec.deg),\n",
    "                            size = framesize, format='image/fits',\n",
    "                            intersect='overlaps')\n",
    "results = query.execute()\n",
    "try:\n",
    "    url = results[0].getdataurl()\n",
    "    fitsimage = fits.open(url)\n",
    "except IndexError:\n",
    "    fitsimage = 0"
   ]
  },
  {
   "cell_type": "code",
   "execution_count": 35,
   "metadata": {},
   "outputs": [],
   "source": [
    "VLA_results = VLA_query.execute()\n",
    "VLA_url = VLA_results[0].getdataurl()\n",
    "\n",
    "response = requests.get(VLA_url)\n",
    "with open(\"test\", \"wb\") as code:\n",
    "    code.write(response.content)"
   ]
  },
  {
   "cell_type": "code",
   "execution_count": 43,
   "metadata": {},
   "outputs": [
    {
     "name": "stdout",
     "output_type": "stream",
     "text": [
      "https://skyview.gsfc.nasa.gov/cgi-bin/images?position=190.5361%2C11.75422&survey=nvss&pixels=300%2C300&sampler=LI&size=0.0833333333333%2C0.0833333333333&projection=Tan&coordinates=J2000.0&requestID=skv1517981781091&return=FITS\n"
     ]
    }
   ],
   "source": [
    "print VLA_url"
   ]
  },
  {
   "cell_type": "code",
   "execution_count": 44,
   "metadata": {},
   "outputs": [
    {
     "name": "stdout",
     "output_type": "stream",
     "text": [
      "Downloading https://skyview.gsfc.nasa.gov/cgi-bin/images?position=190.5361%2C11.75422&survey=nvss&pixels=300%2C300&sampler=LI&size=0.0833333333333%2C0.0833333333333&projection=Tan&coordinates=J2000.0&requestID=skv1517981781091&return=FITS [Done]\n"
     ]
    }
   ],
   "source": [
    "data2 = fits.open(VLA_url)"
   ]
  },
  {
   "cell_type": "code",
   "execution_count": 52,
   "metadata": {},
   "outputs": [
    {
     "name": "stdout",
     "output_type": "stream",
     "text": [
      "SIMPLE  =                    T / Written by SkyView Wed Feb 07 00:41:35 EST 2018BITPIX  =                  -32 / 4 byte floating point                          NAXIS   =                    2 / Two dimensional image                          NAXIS1  =                  300 / Width of image                                 NAXIS2  =                  300 / Height of image                                CRVAL1  =             190.5361 / Reference longitude                            CRVAL2  =             11.75422 / Reference latitude                             RADESYS = 'FK5     '           / Coordinate system                              EQUINOX =               2000.0 / Epoch of the equinox                           CTYPE1  = 'RA---TAN'           / Coordinates -- projection                      CTYPE2  = 'DEC--TAN'           / Coordinates -- projection                      CRPIX1  =                150.5 / X reference pixel                              CRPIX2  =                150.5 / Y reference pixel                              CDELT1  = -0.00027777777777766665 / X scale                                     CDELT2  = 0.00027777777777766665 / Y scale                                      COMMENT                                                                         COMMENT SkyView Survey metadata                                                 COMMENT                                                                         COMMENT Provenance:  National Radio Astronomy Observatory.  The NVSS project i  COMMENT          ncludes  J. J. Condon, W. D. Cotton, E. W. Greisen, Q. F. Yi   COMMENT          n, R. A. Perley (NRAO), and J. J. Broderick (VPI).             COMMENT Copyright:   Copyright 1994, Associated Universities, Inc.,             COMMENT                      National Radio Astronomy Observatory               COMMENT                                                                         COMMENT                            Permission is granted for publication and    COMMENT          reproduction of this material for  scholarly, educational, a   COMMENT          nd private non-commerical use.  1994  Associated Universitie   COMMENT          s, Inc. Inquiries for potential commercial  uses should be a   COMMENT          ddressed to:  NRAO  520 Edgemont Road Charlottesville, VA 22   COMMENT          903-2475                                                       COMMENT Regime:      Radio                                                      COMMENT NSurvey:     1                                                          COMMENT Frequency:   1.4 GHz Continuum                                          COMMENT Bandpass:    1.3628 - 1.4472 GHz                                        COMMENT Coverage:    Declinations @gt; -40                                      COMMENT PixelScale:  15\"/pixel                                                  COMMENT PixelUnits:  Janskies/beam                                              COMMENT Resolution:  45\"                                                        COMMENT Coordinates: Equatorial                                                 COMMENT Equinox:     2000                                                       COMMENT Projection:  Orthographic                                               COMMENT Epoch:       1993-1997                                                  COMMENT Reference:   NVSS home page   Condon et al. 1998 (ADS)                  COMMENT                                                                         COMMENT Survey specific cards                                                   COMMENT                                                                         SURVEY  = 'NVSS    '                                                            TELESCOP= 'VLA     '                                                            INSTRUME= 'L-BAND  '                                                            OBSERVER= 'NVSS GRP'                                                            BUNIT   = 'JY/BEAM '                                                            HISTORY                                                                         HISTORY Settings used in processing:                                            HISTORY                                                                         HISTORY cache = /data/cache/surveys/                                            HISTORY coordinates = J2000.0                                                   HISTORY descriptionxslt = cgifiles/description.xsl                              HISTORY dft_cache = ./skycache/                                                 HISTORY dummy                                                                   HISTORY equinox = 2000                                                          HISTORY finalpostprocessor = skyview.ij.IJProcessor,skyview.data.BoxSmoother,skyHISTORY float =                                                                 HISTORY footertemplate = cgifiles/skyfooter.html                                HISTORY gallerydir = /userimages                                                HISTORY galleryxslt = cgifiles/gallerymultipage.xsl                             HISTORY headertemplate = cgifiles/skyheader.html                                HISTORY htmlwriter = skyview.request.HTMLWriter                                 HISTORY imagefactory = skyview.survey.CachingImageFactory                       HISTORY imagesize = 6                                                           HISTORY localurl = https://skyview.gsfc.nasa.gov/surveys,/skyview/htdocs/surveysHISTORY lut = colortables/b-w-linear.bin                                        HISTORY lutcbarpath = ../images/colorbars/                                      HISTORY mosaicker = skyview.process.Mosaicker                                   HISTORY name = NRA) VLA Sky Survey                                              HISTORY noexit =                                                                HISTORY nullimagedir = ../images/nodata                                         HISTORY output = ../../tempspace/fits/skv29774471783512                         HISTORY outputroot = ../../tempspace/fits                                       HISTORY pixels = 300,300                                                        HISTORY position = 190.5361,11.75422                                            HISTORY postprocessor = skyview.ij.IJProcessor                                  HISTORY projection = Tan                                                        HISTORY quicklook = jpeg                                                        HISTORY requestid = skv1517981781091                                            HISTORY reqxpos = 190.5361                                                      HISTORY reqypos = 11.75422                                                      HISTORY resolver = SIMBAD-NED                                                   HISTORY return = FITS                                                           HISTORY rgbtemplate = cgifiles/skyrgb.html                                      HISTORY rgbwriter = skyview.request.RGBWriter                                   HISTORY sampler = LI                                                            HISTORY savebysurvey                                                            HISTORY scale = 0.00416677                                                      HISTORY settingsupdaters = BatchCompatibility,SettingsFixer,skyview.request.ToasHISTORY shortname = NVSS,N-VSS                                                  HISTORY sia_header = ./sia.header                                               HISTORY siabase = https://skyview.gsfc.nasa.gov/cgi-bin/images?                 HISTORY siaimagetimeout = 300000                                                HISTORY size = 0.0833333333333,0.0833333333333                                  HISTORY spellprefix = https://skyview.gsfc.nasa.gov/surveys/nvss/               HISTORY spellsuffix = ,Sin,J2000,1024,1034,0.004166666884,0.004166666884        HISTORY survey = nvss                                                           HISTORY surveyfinder = skyview.survey.XMLSurveyFinder                           HISTORY surveymanifest = surveys/survey.manifest                                HISTORY surveyregimes = Radio,Millimeter,Infrared,Optical,Ultraviolet,X-ray,GammHISTORY surveysheader = cgifiles/survey.header                                  HISTORY surveytemplate = cgifiles/skysurvey.html                                HISTORY url.heasarcbase = https://heasarc.gsfc.nasa.gov/xamin/vo/cone?showoffsetHISTORY url.ned = http://nedwww.ipac.caltech.edu/cgi-bin/nph-NEDobjsearch?searchHISTORY url.simbad = http://simbad.u-strasbg.fr/simbad-conesearch.pl?           HISTORY url.vizierbase = http://vizier.u-strasbg.fr/viz-bin/votable/-dtd/-A?-outHISTORY urllocalhelp = https://skyview.gsfc.nasa.gov/help/help.html             HISTORY version = 3.3.4                                                         HISTORY webrootpath = /skyview/htdocs                                           HISTORY xmlurlprefix = https://skyview.gsfc.nasa.gov/current/jar/               HISTORY                                                                         HISTORY Map generated at: Wed Feb 07 00:41:35 EST 2018                          HISTORY                                                                         HISTORY Resampler used: LISampler                                               HISTORY                                                                         HISTORY                                                                         HISTORY Image mosaicking usingskyview.process.Mosaicker                         HISTORY                                                                         HISTORY  Used image:/skyview/htdocs/surveys/nvss/I1248P12.fits.gz               HISTORY       Pixels:90000                                                      HISTORY                                                                         END                                                                                                                                                                                                                                                                                                                                                                                                                                                                                                                                                                                                                                                                                                                                                                                                                                                                                                                                                                                                                                                                                                                                                                                                                                                                                                                                                                                                                                                                                             \n"
     ]
    }
   ],
   "source": [
    "print data2[0].header"
   ]
  },
  {
   "cell_type": "code",
   "execution_count": 40,
   "metadata": {},
   "outputs": [
    {
     "name": "stdout",
     "output_type": "stream",
     "text": [
      "<closed file 'test', mode 'wb' at 0x000000000D3F5270>\n"
     ]
    },
    {
     "data": {
      "text/plain": [
       "{'Content-disposition': 'attachment; filename=skv29499606827260.fits', 'Transfer-Encoding': 'chunked', 'Strict-Transport-Security': 'max-age=31536000; includeSubDomains', 'Keep-Alive': 'timeout=15, max=99', 'Server': 'Apache', 'Connection': 'Keep-Alive', 'Date': 'Wed, 07 Feb 2018 05:36:21 GMT', 'Content-Type': 'image/fits'}"
      ]
     },
     "execution_count": 40,
     "metadata": {},
     "output_type": "execute_result"
    }
   ],
   "source": [
    "print code\n",
    "response.headers"
   ]
  },
  {
   "cell_type": "code",
   "execution_count": 24,
   "metadata": {},
   "outputs": [
    {
     "ename": "AttributeError",
     "evalue": "FancyURLopener instance has no __call__ method",
     "output_type": "error",
     "traceback": [
      "\u001b[1;31m---------------------------------------------------------------------------\u001b[0m",
      "\u001b[1;31mAttributeError\u001b[0m                            Traceback (most recent call last)",
      "\u001b[1;32m<ipython-input-24-a07433482de7>\u001b[0m in \u001b[0;36m<module>\u001b[1;34m()\u001b[0m\n\u001b[0;32m     19\u001b[0m \u001b[1;32mtry\u001b[0m\u001b[1;33m:\u001b[0m\u001b[1;33m\u001b[0m\u001b[0m\n\u001b[0;32m     20\u001b[0m     \u001b[0mVLA_url\u001b[0m \u001b[1;33m=\u001b[0m \u001b[0mVLA_results\u001b[0m\u001b[1;33m[\u001b[0m\u001b[1;36m0\u001b[0m\u001b[1;33m]\u001b[0m\u001b[1;33m.\u001b[0m\u001b[0mgetdataurl\u001b[0m\u001b[1;33m(\u001b[0m\u001b[1;33m)\u001b[0m\u001b[1;33m\u001b[0m\u001b[0m\n\u001b[1;32m---> 21\u001b[1;33m     \u001b[0murllib\u001b[0m\u001b[1;33m.\u001b[0m\u001b[0m_urlopener\u001b[0m\u001b[1;33m(\u001b[0m\u001b[0mVLA_url\u001b[0m\u001b[1;33m,\u001b[0m \u001b[0mVLA_filename\u001b[0m\u001b[1;33m)\u001b[0m\u001b[1;33m\u001b[0m\u001b[0m\n\u001b[0m\u001b[0;32m     22\u001b[0m \u001b[1;31m#     VLA_fitsimage = '{}'.format(VLA_filename)\u001b[0m\u001b[1;33m\u001b[0m\u001b[1;33m\u001b[0m\u001b[0m\n\u001b[0;32m     23\u001b[0m \u001b[1;32mexcept\u001b[0m \u001b[0mIndexError\u001b[0m\u001b[1;33m:\u001b[0m\u001b[1;33m\u001b[0m\u001b[0m\n",
      "\u001b[1;31mAttributeError\u001b[0m: FancyURLopener instance has no __call__ method"
     ]
    }
   ],
   "source": [
    "fitsRA = 190.53610\n",
    "fitsDEC = 11.75425\n",
    "framesize = 5*u.arcmin\n",
    "frame='icrs'\n",
    "VLA_filename=None\n",
    "Chandra_filename=None\n",
    "\n",
    "myLocation = SkyCoord(fitsRA*u.deg, fitsDEC*u.deg, frame = frame)\n",
    "\n",
    "VLA_query = vo.sia.SIAQuery('https://skyview.gsfc.nasa.gov/cgi-bin/vo/sia.pl?survey=nvss&',\n",
    "                            pos=(myLocation.ra.deg, myLocation.dec.deg),\n",
    "                            size = framesize, format='image/fits',\n",
    "                            intersect='overlaps')\n",
    "# if VLA_filename is None:\n",
    "#     VLA_filename = 'VLA_RA{}_DEC{}.fits'.format(myLocation.ra.deg, myLocation.dec.deg)\n",
    "# else:\n",
    "#     VLA_filename = VLA_filename\n",
    "# VLA_results = VLA_query.execute()\n",
    "# try:\n",
    "#     VLA_url = VLA_results[0].getdataurl()\n",
    "#     urllib._urlopener(VLA_url, VLA_filename)\n",
    "# #     VLA_fitsimage = '{}'.format(VLA_filename)\n",
    "# except IndexError:\n",
    "#     VLA_fitsimage = 0"
   ]
  },
  {
   "cell_type": "code",
   "execution_count": 18,
   "metadata": {},
   "outputs": [
    {
     "name": "stdout",
     "output_type": "stream",
     "text": [
      "https://skyview.gsfc.nasa.gov/cgi-bin/images?position=190.5361%2C11.75421&survey=nvss&pixels=300%2C300&sampler=LI&size=0.0833333333333%2C0.0833333333333&projection=Tan&coordinates=J2000.0&requestID=skv1517980799509&return=FITS\n"
     ]
    }
   ],
   "source": [
    "print VLA_url"
   ]
  },
  {
   "cell_type": "code",
   "execution_count": 19,
   "metadata": {},
   "outputs": [
    {
     "name": "stdout",
     "output_type": "stream",
     "text": [
      "<addinfourl at 170464392L whose fp = <socket._fileobject object at 0x000000000D3901B0>>\n"
     ]
    }
   ],
   "source": [
    "testdata = urllib.urlopen(VLA_url)\n",
    "print testdata"
   ]
  },
  {
   "cell_type": "code",
   "execution_count": 21,
   "metadata": {},
   "outputs": [
    {
     "ename": "AttributeError",
     "evalue": "addinfourl instance has no attribute 'header'",
     "output_type": "error",
     "traceback": [
      "\u001b[1;31m---------------------------------------------------------------------------\u001b[0m",
      "\u001b[1;31mAttributeError\u001b[0m                            Traceback (most recent call last)",
      "\u001b[1;32m<ipython-input-21-ecc47dc2369a>\u001b[0m in \u001b[0;36m<module>\u001b[1;34m()\u001b[0m\n\u001b[1;32m----> 1\u001b[1;33m \u001b[0mtestdata\u001b[0m\u001b[1;33m.\u001b[0m\u001b[0mheader\u001b[0m\u001b[1;33m\u001b[0m\u001b[0m\n\u001b[0m",
      "\u001b[1;31mAttributeError\u001b[0m: addinfourl instance has no attribute 'header'"
     ]
    }
   ],
   "source": [
    "testdata.header"
   ]
  },
  {
   "cell_type": "code",
   "execution_count": 6,
   "metadata": {},
   "outputs": [
    {
     "ename": "AttributeError",
     "evalue": "'SIAResults' object has no attribute 'header'",
     "output_type": "error",
     "traceback": [
      "\u001b[1;31m---------------------------------------------------------------------------\u001b[0m",
      "\u001b[1;31mAttributeError\u001b[0m                            Traceback (most recent call last)",
      "\u001b[1;32m<ipython-input-6-d1953438affb>\u001b[0m in \u001b[0;36m<module>\u001b[1;34m()\u001b[0m\n\u001b[1;32m----> 1\u001b[1;33m \u001b[1;32mprint\u001b[0m \u001b[0mVLA_query\u001b[0m\u001b[1;33m.\u001b[0m\u001b[0mheader\u001b[0m\u001b[1;33m\u001b[0m\u001b[0m\n\u001b[0m",
      "\u001b[1;31mAttributeError\u001b[0m: 'SIAResults' object has no attribute 'header'"
     ]
    }
   ],
   "source": [
    "print VLA_query.header"
   ]
  }
 ],
 "metadata": {
  "kernelspec": {
   "display_name": "Python 2",
   "language": "python",
   "name": "python2"
  },
  "language_info": {
   "codemirror_mode": {
    "name": "ipython",
    "version": 2
   },
   "file_extension": ".py",
   "mimetype": "text/x-python",
   "name": "python",
   "nbconvert_exporter": "python",
   "pygments_lexer": "ipython2",
   "version": "2.7.13"
  }
 },
 "nbformat": 4,
 "nbformat_minor": 2
}
