{
 "cells": [
  {
   "cell_type": "code",
   "execution_count": 2,
   "metadata": {
    "collapsed": true
   },
   "outputs": [],
   "source": [
    "import numpy as np\n",
    "import matplotlib.pyplot as plt\n",
    "import matplotlib.gridspec as gridspec\n",
    "from sklearn.preprocessing import Imputer\n",
    "from sklearn import datasets\n",
    "from sklearn.decomposition import PCA\n",
    "from sklearn.discriminant_analysis import LinearDiscriminantAnalysis\n",
    "\n",
    "def beautification():\n",
    "    ax.set_facecolor('whitesmoke')\n",
    "    ax.patch.set_alpha(.5)\n",
    "    ax.spines[\"top\"].set_visible(False)\n",
    "    ax.spines[\"right\"].set_visible(False)\n",
    "    ax.minorticks_on()\n",
    "    ax.tick_params('both', length=8, which='major', labelsize='10')\n",
    "    ax.tick_params('both',length=3, which='minor')\n",
    "    ax.grid(True, which='major', ls='dashed', alpha=.5)\n",
    "    ax.grid(True, which='minor', ls='dashed', alpha=.15)\n",
    "    ax.legend(loc='best', markerscale=5)\n",
    "    \n",
    "colors = [np.array([141,211,199])/255., np.array([255,255,179])/255.,\n",
    "          np.array([190,186,218])/255., np.array([251,128,114])/255.,\n",
    "          np.array([128,177,211])/255., np.array([253,180,98])/255.,\n",
    "          np.array([179,222,105])/255., np.array([252,205,229])/255.,\n",
    "          np.array([217,217,217])/255., np.array([188,128,189])/255.]"
   ]
  },
  {
   "cell_type": "code",
   "execution_count": 3,
   "metadata": {},
   "outputs": [
    {
     "name": "stderr",
     "output_type": "stream",
     "text": [
      "C:\\ProgramData\\Anaconda2\\lib\\site-packages\\sklearn\\discriminant_analysis.py:455: UserWarning: The priors do not sum to 1. Renormalizing\n",
      "  UserWarning)\n"
     ]
    }
   ],
   "source": [
    "data = np.genfromtxt('Chandra/ChandraObs2018.01.02.18.18.25.csv', unpack = True, names = True, delimiter = ',', skip_footer=0, dtype=None)\n",
    "data2 = np.genfromtxt('Chandra/ChandraObs2018.01.04.13.44.17.csv', unpack = True, names = True, delimiter = ',', skip_footer=0, dtype=None)\n",
    "\n",
    "classifier = 'type'\n",
    "types = list(sorted(set(data[classifier]), key=list(data[classifier]).index))\n",
    "parameters = ['hard_hm', 'flux_aper_b', 'significance', 'hard_ms']\n",
    "\n",
    "structured = dict(zip(types,[dict(zip(parameters,\n",
    "                                      [data[jval][data[classifier]==ival]\n",
    "                                       for j, jval in enumerate(parameters)]))\n",
    "                             for i, ival in enumerate(types)]))\n",
    "\n",
    "ntarget = data['type']\n",
    "ndata = np.vstack((data['hard_hm'],data['flux_aper_b'],data['significance'],data['hard_ms'])).T\n",
    "imp = Imputer(missing_values='NaN', strategy='mean', axis=1)\n",
    "ndata = imp.fit_transform(ndata)\n",
    "\n",
    "X = ndata\n",
    "Y = ntarget\n",
    "target_names = types\n",
    "\n",
    "pca = PCA(n_components=2)\n",
    "X_r = pca.fit(X).transform(X)\n",
    "\n",
    "lda = LinearDiscriminantAnalysis(n_components=2)\n",
    "X_r2 = lda.fit(X, Y).transform(X)"
   ]
  },
  {
   "cell_type": "code",
   "execution_count": null,
   "metadata": {
    "collapsed": true
   },
   "outputs": [],
   "source": [
    "height_ratios = [8]\n",
    "width_ratios = [12, 12]\n",
    "wspace = 1.25\n",
    "hspace = 1.5\n",
    "\n",
    "fig = plt.figure(figsize=(sum(width_ratios) + wspace *\n",
    "                          (len(width_ratios) - 1),\n",
    "                          sum(height_ratios) + hspace *\n",
    "                          (len(height_ratios) - 1)))\n",
    "gs = gridspec.GridSpec(len(height_ratios),\n",
    "                       len(width_ratios),\n",
    "                       height_ratios=height_ratios,\n",
    "                       width_ratios=width_ratios)\n",
    "lw = 2\n",
    "\n",
    "ax = fig.add_subplot(gs[0])\n",
    "for color, i, target_name in zip(colors, types, target_names):\n",
    "    ax.scatter(X_r[Y == i, 0], X_r[Y == i, 1],\n",
    "               color=color, alpha=.75, lw=lw, marker='s', s = 2.5,\n",
    "               label=target_name)\n",
    "beautification()\n",
    "ax.set_title('PCA')\n",
    "\n",
    "ax = fig.add_subplot(gs[1])\n",
    "for color, i, target_name in zip(colors, types, target_names):\n",
    "    ax.scatter(X_r2[Y == i, 0], X_r2[Y == i, 1],\n",
    "               alpha=.75, color=color, marker='s', s = 2.5,\n",
    "               label=target_name)\n",
    "ax.set_title('LDA')\n",
    "beautification()\n",
    "\n",
    "plt.show()"
   ]
  },
  {
   "cell_type": "code",
   "execution_count": 22,
   "metadata": {},
   "outputs": [
    {
     "ename": "ValueError",
     "evalue": "x and y must have same first dimension, but have shapes (3L,) and (4L,)",
     "output_type": "error",
     "traceback": [
      "\u001b[1;31m---------------------------------------------------------------------------\u001b[0m",
      "\u001b[1;31mValueError\u001b[0m                                Traceback (most recent call last)",
      "\u001b[1;32m<ipython-input-22-258b4a4d3e0b>\u001b[0m in \u001b[0;36m<module>\u001b[1;34m()\u001b[0m\n\u001b[1;32m----> 1\u001b[1;33m \u001b[0mplt\u001b[0m\u001b[1;33m.\u001b[0m\u001b[0mplot\u001b[0m\u001b[1;33m(\u001b[0m\u001b[1;33m[\u001b[0m\u001b[1;36m0\u001b[0m\u001b[1;33m,\u001b[0m\u001b[1;36m0\u001b[0m\u001b[1;33m,\u001b[0m\u001b[1;36m1\u001b[0m\u001b[1;33m]\u001b[0m\u001b[1;33m,\u001b[0m\u001b[1;33m[\u001b[0m\u001b[1;36m0\u001b[0m\u001b[1;33m,\u001b[0m\u001b[1;36m0\u001b[0m\u001b[1;33m,\u001b[0m\u001b[1;36m0\u001b[0m\u001b[1;33m,\u001b[0m\u001b[1;36m0\u001b[0m\u001b[1;33m]\u001b[0m\u001b[1;33m)\u001b[0m\u001b[1;33m\u001b[0m\u001b[0m\n\u001b[0m",
      "\u001b[1;32mC:\\ProgramData\\Anaconda2\\lib\\site-packages\\matplotlib\\pyplot.pyc\u001b[0m in \u001b[0;36mplot\u001b[1;34m(*args, **kwargs)\u001b[0m\n\u001b[0;32m   3315\u001b[0m                       mplDeprecation)\n\u001b[0;32m   3316\u001b[0m     \u001b[1;32mtry\u001b[0m\u001b[1;33m:\u001b[0m\u001b[1;33m\u001b[0m\u001b[0m\n\u001b[1;32m-> 3317\u001b[1;33m         \u001b[0mret\u001b[0m \u001b[1;33m=\u001b[0m \u001b[0max\u001b[0m\u001b[1;33m.\u001b[0m\u001b[0mplot\u001b[0m\u001b[1;33m(\u001b[0m\u001b[1;33m*\u001b[0m\u001b[0margs\u001b[0m\u001b[1;33m,\u001b[0m \u001b[1;33m**\u001b[0m\u001b[0mkwargs\u001b[0m\u001b[1;33m)\u001b[0m\u001b[1;33m\u001b[0m\u001b[0m\n\u001b[0m\u001b[0;32m   3318\u001b[0m     \u001b[1;32mfinally\u001b[0m\u001b[1;33m:\u001b[0m\u001b[1;33m\u001b[0m\u001b[0m\n\u001b[0;32m   3319\u001b[0m         \u001b[0max\u001b[0m\u001b[1;33m.\u001b[0m\u001b[0m_hold\u001b[0m \u001b[1;33m=\u001b[0m \u001b[0mwashold\u001b[0m\u001b[1;33m\u001b[0m\u001b[0m\n",
      "\u001b[1;32mC:\\ProgramData\\Anaconda2\\lib\\site-packages\\matplotlib\\__init__.pyc\u001b[0m in \u001b[0;36minner\u001b[1;34m(ax, *args, **kwargs)\u001b[0m\n\u001b[0;32m   1895\u001b[0m                     warnings.warn(msg % (label_namer, func.__name__),\n\u001b[0;32m   1896\u001b[0m                                   RuntimeWarning, stacklevel=2)\n\u001b[1;32m-> 1897\u001b[1;33m             \u001b[1;32mreturn\u001b[0m \u001b[0mfunc\u001b[0m\u001b[1;33m(\u001b[0m\u001b[0max\u001b[0m\u001b[1;33m,\u001b[0m \u001b[1;33m*\u001b[0m\u001b[0margs\u001b[0m\u001b[1;33m,\u001b[0m \u001b[1;33m**\u001b[0m\u001b[0mkwargs\u001b[0m\u001b[1;33m)\u001b[0m\u001b[1;33m\u001b[0m\u001b[0m\n\u001b[0m\u001b[0;32m   1898\u001b[0m         \u001b[0mpre_doc\u001b[0m \u001b[1;33m=\u001b[0m \u001b[0minner\u001b[0m\u001b[1;33m.\u001b[0m\u001b[0m__doc__\u001b[0m\u001b[1;33m\u001b[0m\u001b[0m\n\u001b[0;32m   1899\u001b[0m         \u001b[1;32mif\u001b[0m \u001b[0mpre_doc\u001b[0m \u001b[1;32mis\u001b[0m \u001b[0mNone\u001b[0m\u001b[1;33m:\u001b[0m\u001b[1;33m\u001b[0m\u001b[0m\n",
      "\u001b[1;32mC:\\ProgramData\\Anaconda2\\lib\\site-packages\\matplotlib\\axes\\_axes.pyc\u001b[0m in \u001b[0;36mplot\u001b[1;34m(self, *args, **kwargs)\u001b[0m\n\u001b[0;32m   1404\u001b[0m         \u001b[0mkwargs\u001b[0m \u001b[1;33m=\u001b[0m \u001b[0mcbook\u001b[0m\u001b[1;33m.\u001b[0m\u001b[0mnormalize_kwargs\u001b[0m\u001b[1;33m(\u001b[0m\u001b[0mkwargs\u001b[0m\u001b[1;33m,\u001b[0m \u001b[0m_alias_map\u001b[0m\u001b[1;33m)\u001b[0m\u001b[1;33m\u001b[0m\u001b[0m\n\u001b[0;32m   1405\u001b[0m \u001b[1;33m\u001b[0m\u001b[0m\n\u001b[1;32m-> 1406\u001b[1;33m         \u001b[1;32mfor\u001b[0m \u001b[0mline\u001b[0m \u001b[1;32min\u001b[0m \u001b[0mself\u001b[0m\u001b[1;33m.\u001b[0m\u001b[0m_get_lines\u001b[0m\u001b[1;33m(\u001b[0m\u001b[1;33m*\u001b[0m\u001b[0margs\u001b[0m\u001b[1;33m,\u001b[0m \u001b[1;33m**\u001b[0m\u001b[0mkwargs\u001b[0m\u001b[1;33m)\u001b[0m\u001b[1;33m:\u001b[0m\u001b[1;33m\u001b[0m\u001b[0m\n\u001b[0m\u001b[0;32m   1407\u001b[0m             \u001b[0mself\u001b[0m\u001b[1;33m.\u001b[0m\u001b[0madd_line\u001b[0m\u001b[1;33m(\u001b[0m\u001b[0mline\u001b[0m\u001b[1;33m)\u001b[0m\u001b[1;33m\u001b[0m\u001b[0m\n\u001b[0;32m   1408\u001b[0m             \u001b[0mlines\u001b[0m\u001b[1;33m.\u001b[0m\u001b[0mappend\u001b[0m\u001b[1;33m(\u001b[0m\u001b[0mline\u001b[0m\u001b[1;33m)\u001b[0m\u001b[1;33m\u001b[0m\u001b[0m\n",
      "\u001b[1;32mC:\\ProgramData\\Anaconda2\\lib\\site-packages\\matplotlib\\axes\\_base.pyc\u001b[0m in \u001b[0;36m_grab_next_args\u001b[1;34m(self, *args, **kwargs)\u001b[0m\n\u001b[0;32m    405\u001b[0m                 \u001b[1;32mreturn\u001b[0m\u001b[1;33m\u001b[0m\u001b[0m\n\u001b[0;32m    406\u001b[0m             \u001b[1;32mif\u001b[0m \u001b[0mlen\u001b[0m\u001b[1;33m(\u001b[0m\u001b[0mremaining\u001b[0m\u001b[1;33m)\u001b[0m \u001b[1;33m<=\u001b[0m \u001b[1;36m3\u001b[0m\u001b[1;33m:\u001b[0m\u001b[1;33m\u001b[0m\u001b[0m\n\u001b[1;32m--> 407\u001b[1;33m                 \u001b[1;32mfor\u001b[0m \u001b[0mseg\u001b[0m \u001b[1;32min\u001b[0m \u001b[0mself\u001b[0m\u001b[1;33m.\u001b[0m\u001b[0m_plot_args\u001b[0m\u001b[1;33m(\u001b[0m\u001b[0mremaining\u001b[0m\u001b[1;33m,\u001b[0m \u001b[0mkwargs\u001b[0m\u001b[1;33m)\u001b[0m\u001b[1;33m:\u001b[0m\u001b[1;33m\u001b[0m\u001b[0m\n\u001b[0m\u001b[0;32m    408\u001b[0m                     \u001b[1;32myield\u001b[0m \u001b[0mseg\u001b[0m\u001b[1;33m\u001b[0m\u001b[0m\n\u001b[0;32m    409\u001b[0m                 \u001b[1;32mreturn\u001b[0m\u001b[1;33m\u001b[0m\u001b[0m\n",
      "\u001b[1;32mC:\\ProgramData\\Anaconda2\\lib\\site-packages\\matplotlib\\axes\\_base.pyc\u001b[0m in \u001b[0;36m_plot_args\u001b[1;34m(self, tup, kwargs)\u001b[0m\n\u001b[0;32m    383\u001b[0m             \u001b[0mx\u001b[0m\u001b[1;33m,\u001b[0m \u001b[0my\u001b[0m \u001b[1;33m=\u001b[0m \u001b[0mindex_of\u001b[0m\u001b[1;33m(\u001b[0m\u001b[0mtup\u001b[0m\u001b[1;33m[\u001b[0m\u001b[1;33m-\u001b[0m\u001b[1;36m1\u001b[0m\u001b[1;33m]\u001b[0m\u001b[1;33m)\u001b[0m\u001b[1;33m\u001b[0m\u001b[0m\n\u001b[0;32m    384\u001b[0m \u001b[1;33m\u001b[0m\u001b[0m\n\u001b[1;32m--> 385\u001b[1;33m         \u001b[0mx\u001b[0m\u001b[1;33m,\u001b[0m \u001b[0my\u001b[0m \u001b[1;33m=\u001b[0m \u001b[0mself\u001b[0m\u001b[1;33m.\u001b[0m\u001b[0m_xy_from_xy\u001b[0m\u001b[1;33m(\u001b[0m\u001b[0mx\u001b[0m\u001b[1;33m,\u001b[0m \u001b[0my\u001b[0m\u001b[1;33m)\u001b[0m\u001b[1;33m\u001b[0m\u001b[0m\n\u001b[0m\u001b[0;32m    386\u001b[0m \u001b[1;33m\u001b[0m\u001b[0m\n\u001b[0;32m    387\u001b[0m         \u001b[1;32mif\u001b[0m \u001b[0mself\u001b[0m\u001b[1;33m.\u001b[0m\u001b[0mcommand\u001b[0m \u001b[1;33m==\u001b[0m \u001b[1;34m'plot'\u001b[0m\u001b[1;33m:\u001b[0m\u001b[1;33m\u001b[0m\u001b[0m\n",
      "\u001b[1;32mC:\\ProgramData\\Anaconda2\\lib\\site-packages\\matplotlib\\axes\\_base.pyc\u001b[0m in \u001b[0;36m_xy_from_xy\u001b[1;34m(self, x, y)\u001b[0m\n\u001b[0;32m    242\u001b[0m         \u001b[1;32mif\u001b[0m \u001b[0mx\u001b[0m\u001b[1;33m.\u001b[0m\u001b[0mshape\u001b[0m\u001b[1;33m[\u001b[0m\u001b[1;36m0\u001b[0m\u001b[1;33m]\u001b[0m \u001b[1;33m!=\u001b[0m \u001b[0my\u001b[0m\u001b[1;33m.\u001b[0m\u001b[0mshape\u001b[0m\u001b[1;33m[\u001b[0m\u001b[1;36m0\u001b[0m\u001b[1;33m]\u001b[0m\u001b[1;33m:\u001b[0m\u001b[1;33m\u001b[0m\u001b[0m\n\u001b[0;32m    243\u001b[0m             raise ValueError(\"x and y must have same first dimension, but \"\n\u001b[1;32m--> 244\u001b[1;33m                              \"have shapes {} and {}\".format(x.shape, y.shape))\n\u001b[0m\u001b[0;32m    245\u001b[0m         \u001b[1;32mif\u001b[0m \u001b[0mx\u001b[0m\u001b[1;33m.\u001b[0m\u001b[0mndim\u001b[0m \u001b[1;33m>\u001b[0m \u001b[1;36m2\u001b[0m \u001b[1;32mor\u001b[0m \u001b[0my\u001b[0m\u001b[1;33m.\u001b[0m\u001b[0mndim\u001b[0m \u001b[1;33m>\u001b[0m \u001b[1;36m2\u001b[0m\u001b[1;33m:\u001b[0m\u001b[1;33m\u001b[0m\u001b[0m\n\u001b[0;32m    246\u001b[0m             raise ValueError(\"x and y can be no greater than 2-D, but have \"\n",
      "\u001b[1;31mValueError\u001b[0m: x and y must have same first dimension, but have shapes (3L,) and (4L,)"
     ]
    }
   ],
   "source": [
    "plt.plot([0,0,1],[0,0,0,0])"
   ]
  },
  {
   "cell_type": "code",
   "execution_count": 18,
   "metadata": {},
   "outputs": [
    {
     "data": {
      "image/png": "[encoded data removed]",
      "text/plain": [
       "<matplotlib.figure.Figure at 0xb9cc080>"
      ]
     },
     "metadata": {},
     "output_type": "display_data"
    }
   ],
   "source": [
    "fig, ax = plt.subplots()\n",
    "ax.scatter(structured['GCs']['hard_ms'], structured['GCs']['flux_aper_b'], s=7)\n",
    "ax.scatter(data2['hard_ms'], data2['flux_aper_b'], s=20, c='red')\n",
    "ax.set_ylim(min(structured['GCs']['flux_aper_b']),max(structured['GCs']['flux_aper_b']))\n",
    "beautification()\n",
    "ax.set_xlabel('Hard ms [ergs$^{-1}$]')\n",
    "ax.set_ylabel('Significance')\n",
    "# ax.set_xscale('log')\n",
    "\n",
    "plt.show()"
   ]
  },
  {
   "cell_type": "code",
   "execution_count": null,
   "metadata": {
    "collapsed": true
   },
   "outputs": [],
   "source": [
    "height_ratios = [8, 8, 8]\n",
    "width_ratios = [12, 12, 12, 12]\n",
    "wspace = 1.25\n",
    "hspace = 1.5\n",
    "x = 0\n",
    "y = 0\n",
    "\n",
    "fig = plt.figure(figsize=(sum(width_ratios) + wspace *\n",
    "                          (len(width_ratios) - 1),\n",
    "                          sum(height_ratios) + hspace *\n",
    "                          (len(height_ratios) - 1)))\n",
    "gs = gridspec.GridSpec(len(height_ratios),\n",
    "                       len(width_ratios),\n",
    "                       height_ratios=height_ratios,\n",
    "                       width_ratios=width_ratios)\n",
    "\n",
    "colors = [np.array([141,211,199])/255., np.array([255,255,179])/255.,\n",
    "          np.array([190,186,218])/255., np.array([251,128,114])/255.,\n",
    "          np.array([128,177,211])/255., np.array([253,180,98])/255.,\n",
    "          np.array([179,222,105])/255., np.array([252,205,229])/255.,\n",
    "          np.array([217,217,217])/255., np.array([188,128,189])/255.]\n",
    "\n",
    "fig.suptitle('', fontsize=20)\n",
    "location = 0\n",
    "for i, ival in enumerate(parameters):\n",
    "    for j, jval in enumerate(parameters):\n",
    "        if i != j and j > i:\n",
    "            ax = fig.add_subplot(gs[location])\n",
    "            for k, kval in enumerate(types):\n",
    "                if type(kval) == np.string_:\n",
    "                    ax.scatter(structured['{}'.format(kval)]['{}'.format(ival)],\n",
    "                               structured['{}'.format(kval)]['{}'.format(jval)],\n",
    "                               facecolors=colors[k], marker ='s', s = 2.5, alpha=.75,\n",
    "                               label='{}'.format(kval))\n",
    "                    if max(structured['{}'.format(kval)]['{}'.format(ival)]) - min(structured['{}'.format(kval)]['{}'.format(ival)]) < 1e1:\n",
    "                        ax.set_xscale('linear')\n",
    "                        ax.set_xlim(min(structured['{}'.format(kval)]['{}'.format(ival)]),\n",
    "                                    max(structured['{}'.format(kval)]['{}'.format(ival)]))\n",
    "                    if max(structured['{}'.format(kval)]['{}'.format(jval)]) - min(structured['{}'.format(kval)]['{}'.format(jval)]) < 1e1:\n",
    "                        ax.set_yscale('linear')\n",
    "                        ax.set_ylim(min(structured['{}'.format(kval)]['{}'.format(jval)]),\n",
    "                                    max(structured['{}'.format(kval)]['{}'.format(jval)]))\n",
    "                    if max(structured['{}'.format(kval)]['{}'.format(ival)]) - min(structured['{}'.format(kval)]['{}'.format(ival)]) > 1e1:\n",
    "                        ax.set_xscale('log')\n",
    "                    if max(structured['{}'.format(kval)]['{}'.format(jval)]) - min(structured['{}'.format(kval)]['{}'.format(jval)]) > 1e1:\n",
    "                        ax.set_yscale('log')\n",
    "                if type(kval) != np.string_:\n",
    "                    ax.scatter(structured[kval]['{}'.format(ival)],\n",
    "                               structured[kval]['{}'.format(jval)],\n",
    "                               facecolors=colors[k], marker='s', s = 2.5, alpha=.75,\n",
    "                               label='{}'.format(kval))\n",
    "                    if max(structured[kval]['{}'.format(ival)]) - min(structured[kval]['{}'.format(ival)]) < 1e1:\n",
    "                        ax.set_xscale('linear')\n",
    "                        ax.set_xlim(min(structured['{}'.format(kval)]['{}'.format(ival)]),\n",
    "                                    max(structured['{}'.format(kval)]['{}'.format(ival)]))\n",
    "                    if max(structured[kval]['{}'.format(jval)]) - min(structured[kval]['{}'.format(jval)]) < 1e1:\n",
    "                        ax.set_yscale('linear')\n",
    "                        ax.set_ylim(min(structured['{}'.format(kval)]['{}'.format(jval)]),\n",
    "                                    max(structured['{}'.format(kval)]['{}'.format(jval)]))\n",
    "                    if max(structured[kval]['{}'.format(ival)]) - min(structured[kval]['{}'.format(ival)]) > 1e1:\n",
    "                        ax.set_xscale('log')\n",
    "                    if max(structured[kval]['{}'.format(jval)]) - min(structured[kval]['{}'.format(jval)]) > 1e1:\n",
    "                        ax.set_yscale('log')\n",
    "                ax.set_xlabel('{}'.format(ival), fontsize=20, fontweight=50)\n",
    "                ax.set_ylabel('{}'.format(jval), fontsize=20, fontweight=50)\n",
    "                beautification()\n",
    "            location += 1\n",
    "\n",
    "lw = 2\n",
    "ax = fig.add_subplot(gs[location])\n",
    "for color, i, target_name in zip(colors, types, target_names):\n",
    "    ax.scatter(X_r[Y == i, 0], X_r[Y == i, 1],\n",
    "               color=color, alpha=.75, lw=lw, marker='s', s = 2.5,\n",
    "               label=target_name)\n",
    "beautification()\n",
    "ax.set_title('PCA')\n",
    "location += 1\n",
    "\n",
    "ax = fig.add_subplot(gs[location])\n",
    "for color, i, target_name in zip(colors, types, target_names):\n",
    "    ax.scatter(X_r2[Y == i, 0], X_r2[Y == i, 1],\n",
    "               alpha=.75, color=color, marker='s', s = 2.5,\n",
    "               label=target_name)\n",
    "ax.set_title('LDA')\n",
    "beautification()\n",
    "\n",
    "# plt.savefig('fig.png', dpi=100)\n",
    "plt.show()"
   ]
  },
  {
   "cell_type": "code",
   "execution_count": null,
   "metadata": {
    "collapsed": true
   },
   "outputs": [],
   "source": [
    "print structured['GCs']['hard_ms']"
   ]
  }
 ],
 "metadata": {
  "kernelspec": {
   "display_name": "Python 2",
   "language": "python",
   "name": "python2"
  },
  "language_info": {
   "codemirror_mode": {
    "name": "ipython",
    "version": 2
   },
   "file_extension": ".py",
   "mimetype": "text/x-python",
   "name": "python",
   "nbconvert_exporter": "python",
   "pygments_lexer": "ipython2",
   "version": "2.7.13"
  }
 },
 "nbformat": 4,
 "nbformat_minor": 2
}
