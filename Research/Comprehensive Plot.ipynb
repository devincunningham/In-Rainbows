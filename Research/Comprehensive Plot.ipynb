{
 "cells": [
  {
   "cell_type": "code",
   "execution_count": 2,
   "metadata": {
    "collapsed": true
   },
   "outputs": [],
   "source": [
    "import matplotlib.pyplot as plt\n",
    "import numpy as np\n",
    "import pandas as pd"
   ]
  },
  {
   "cell_type": "code",
   "execution_count": 3,
   "metadata": {
    "collapsed": true
   },
   "outputs": [],
   "source": [
    "V_sun = 4.83               #V-band\n",
    "r_sun = 4.676              #r-band from table I of Into & Portinari 2013\n",
    "G = 6.67408e-11            # gravitational constant\n",
    "Msun = 1.99e30             #mass of sun\n",
    "a2p = ((np.pi/180.0)*(1.0/3600.0))    #arcsecond to parsec conversion\n",
    "p2m = 3.086e16             #parsec to meter conversion\n",
    "c = 299792                 #speed of light in km/s\n",
    "H0 = 70.0                    #hubble constant\n",
    "\n",
    "def Vband(g,r):\n",
    "    '''V-band apparent magnitude'''\n",
    "    V = g - 0.565*(g-r) - 0.016\n",
    "    return(V)\n",
    "\n",
    "def V_Luminosity(V):\n",
    "    '''Luminosity per solar unit'''\n",
    "    L = 10**(-(V_sun-V)/2.5)\n",
    "    return(L)\n",
    "\n",
    "def AbsV(V, d):\n",
    "    '''Absolute Magnitude from Apparent Magnitude'''\n",
    "    M = V + 5.0 - 5.0*(log10(d))\n",
    "    return(M)\n",
    "\n",
    "def R_e(devRad,fracDev,expRad):\n",
    "    '''The Effective radius'''\n",
    "    Re = (devRad*fracDev) + expRad*( 1.0 - fracDev)\n",
    "    return(Re)"
   ]
  },
  {
   "cell_type": "code",
   "execution_count": 4,
   "metadata": {
    "collapsed": true
   },
   "outputs": [],
   "source": [
    "reines = pd.read_csv('reines.txt')"
   ]
  },
  {
   "cell_type": "code",
   "execution_count": 9,
   "metadata": {},
   "outputs": [
    {
     "data": {
      "text/plain": [
       "Index([u'objid', u'ra', u'dec', u'devrad_r', u'fracdev_r', u'exprad_r',\n",
       "       u'redshift', u'modelmag_u', u'modelmag_g', u'modelmag_r', u'modelmag_i',\n",
       "       u'modelmag_z', u'petrorad_r', u'petroR50_r', u'theta',\n",
       "       u'effective50_radius', u'Surface_area_logged', u'veldisp',\n",
       "       u'vdisp_median', u'vdisp_median1', u'Ports_passive_mass',\n",
       "       u'GranadaFSPS_mass', u'WiscBC03_mass', u'Wiscm11_mass',\n",
       "       u'Flux_OIII_5006', u'Flux_Hb_4861', u'Flux_NII_6583', u'Flux_Ha_6562',\n",
       "       u'Flux_SII_6716', u'Flux_SII_6730', u'Flux_OI_6300', u'snMedian',\n",
       "       u'bpt', u'clean'],\n",
       "      dtype='object')"
      ]
     },
     "execution_count": 9,
     "metadata": {},
     "output_type": "execute_result"
    }
   ],
   "source": [
    "reines.keys()\n",
    "# reines_emission = df.drop(df.columns[[0, 1, 3]], axis=1)"
   ]
  },
  {
   "cell_type": "code",
   "execution_count": 6,
   "metadata": {},
   "outputs": [
    {
     "name": "stdout",
     "output_type": "stream",
     "text": [
      "0      9.350678\n",
      "1      9.040941\n",
      "2      9.052414\n",
      "3      9.231976\n",
      "4      9.487173\n",
      "5      9.398500\n",
      "6      9.427694\n",
      "7      9.677558\n",
      "8      8.742190\n",
      "9      9.783500\n",
      "10     9.235467\n",
      "11     8.485750\n",
      "12     9.151459\n",
      "13     9.283897\n",
      "14     9.793941\n",
      "15     9.289990\n",
      "16     9.431313\n",
      "17     9.296481\n",
      "18     9.803105\n",
      "19     9.272977\n",
      "20     9.345771\n",
      "21     8.837814\n",
      "22     9.195688\n",
      "23     8.965548\n",
      "24     9.500918\n",
      "25     9.650937\n",
      "26     9.510437\n",
      "27     9.750107\n",
      "28     9.307281\n",
      "29     9.185504\n",
      "         ...   \n",
      "94     9.461816\n",
      "95     9.109315\n",
      "96     9.172695\n",
      "97     9.516181\n",
      "98     8.647489\n",
      "99     9.756252\n",
      "100    9.031596\n",
      "101    9.396475\n",
      "102    9.305404\n",
      "103    9.641678\n",
      "104    9.057509\n",
      "105    9.200117\n",
      "106    9.859974\n",
      "107    9.809481\n",
      "108    9.542769\n",
      "109    9.645657\n",
      "110    9.631528\n",
      "111    9.589756\n",
      "112    9.323812\n",
      "113    9.958516\n",
      "114    9.051768\n",
      "115    9.448038\n",
      "116    9.640506\n",
      "117    8.383581\n",
      "118    9.418733\n",
      "119    9.412643\n",
      "120    9.406527\n",
      "121    9.638158\n",
      "122    9.170191\n",
      "123    8.993493\n",
      "Name: GranadaFSPS_mass, Length: 124, dtype: float64\n"
     ]
    }
   ],
   "source": [
    "print reines.GranadaFSPS_mass"
   ]
  },
  {
   "cell_type": "code",
   "execution_count": 8,
   "metadata": {},
   "outputs": [
    {
     "data": {
      "image/png": "[encoded data removed]",
      "text/plain": [
       "<matplotlib.figure.Figure at 0xa786908>"
      ]
     },
     "metadata": {},
     "output_type": "display_data"
    }
   ],
   "source": [
    "plt.scatter(reines.GranadaFSPS_mass, reines.WiscBC03_mass)\n",
    "plt.show()"
   ]
  }
 ],
 "metadata": {
  "kernelspec": {
   "display_name": "Python 2",
   "language": "python",
   "name": "python2"
  },
  "language_info": {
   "codemirror_mode": {
    "name": "ipython",
    "version": 2
   },
   "file_extension": ".py",
   "mimetype": "text/x-python",
   "name": "python",
   "nbconvert_exporter": "python",
   "pygments_lexer": "ipython2",
   "version": "2.7.13"
  }
 },
 "nbformat": 4,
 "nbformat_minor": 2
}
