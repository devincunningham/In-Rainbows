{
 "metadata": {
  "name": "",
  "signature": "sha256:36d18c0959bedf9d23ef1bed3f66fce48ae0b1b7cfb9af4d19c2681260a586b3"
 },
 "nbformat": 3,
 "nbformat_minor": 0,
 "worksheets": [
  {
   "cells": [
    {
     "cell_type": "code",
     "collapsed": false,
     "input": [
      "import numpy as np\n",
      "from StringIO import StringIO\n",
      "%cd C:\\Users\\Devin\\Google Drive\\Astro Research\\Data"
     ],
     "language": "python",
     "metadata": {},
     "outputs": [
      {
       "output_type": "stream",
       "stream": "stdout",
       "text": [
        "C:\\Users\\Devin\\Google Drive\\Astro Research\\Data\n"
       ]
      }
     ],
     "prompt_number": 1
    },
    {
     "cell_type": "code",
     "collapsed": false,
     "input": [
      "PandyaAppendix3 = np.genfromtxt('Pandya X-Ray Detected Optical Properties.csv', \\\n",
      "                                names=True,delimiter=',',dtype=None,unpack=True,skip_header=0)\n",
      "\n",
      "P_optical_Name = PandyaAppendix3['Name']            #Adopted UCD literature name \n",
      "P_optical_System = PandyaAppendix3['System']        #UCD host system\n",
      "P_optical_RA = PandyaAppendix3['RA']                #Right Ascension in decimal degrees (J2000) [deg]\n",
      "P_optical_Dec = PandyaAppendix3['Dec']              #Declination in decimal degrees (J2000) [deg]\n",
      "P_optical_Distance = PandyaAppendix3['Distance']    #Adopted distance [Mpc]\n",
      "P_optical_M_V = PandyaAppendix3['M_V']              #Absolute V band magnitude [mag]\n",
      "P_optical_logM = PandyaAppendix3['logM']            #Log dynamical mass [solMass]\n",
      "P_optical_e_logM = PandyaAppendix3['e_logM']        #Uncertainty in logM [solMass]\n",
      "P_optical_rhl = PandyaAppendix3['rhl']              #Optical half-light radius [pc]\n",
      "P_optical_e_rhl = PandyaAppendix3['e_rhl']          #Uncertainty in optical half-light radius [pc]\n",
      "P_optical_HRV = PandyaAppendix3['HRV']              #Heliocentric radial velocity [km/s]\n",
      "P_optical_sigma = PandyaAppendix3['sigma']          #Global stellar velocity dispersion [km/s]\n",
      "P_optical_e_sigma = PandyaAppendix3['e_sigma']      #Uncertainty in global stellar velocity dispersion [km/s]\n",
      "P_optical_ML = PandyaAppendix3['ML']                #Dynamical mass-to-light ratio [solMass/solLum]\n",
      "P_optical_e_ML = PandyaAppendix3['e_ML']            #Uncertainty in dynamical mass-to-light ratio [solMass/solLum]\n",
      "P_optical_nLMXB = PandyaAppendix3['nLMXB']          #Expected number of LMXBs"
     ],
     "language": "python",
     "metadata": {},
     "outputs": [],
     "prompt_number": 3
    },
    {
     "cell_type": "code",
     "collapsed": false,
     "input": [
      "print P_optical_Name\n",
      "print P_Xray_logLF\n",
      "print where(P_Xray_logLF > 38.5)"
     ],
     "language": "python",
     "metadata": {},
     "outputs": [
      {
       "output_type": "stream",
       "stream": "stdout",
       "text": [
        "['F-17              ' 'F-22              ' 'F-34              '\n",
        " 'F-3               ' 'F-18              ' 'gregg25           '\n",
        " 'gregg26           ' 'gregg45         * ' 'HGHH92-C6         '\n",
        " 'HGHH92-C7         ' 'HHH86-C18         ' 'HGHH92-C21        '\n",
        " 'HGHH92-C23        ' 'HGHH92-C36=R113   ' 'HGHH92-C37=R116   '\n",
        " 'HCH99-16          ' 'HCH99-18          ' 'HGHH92-C12=R281 * '\n",
        " 'SUCD1             ' 'M60-UCD1          ' 'M85-HCC1          ']\n"
       ]
      },
      {
       "ename": "NameError",
       "evalue": "name 'P_Xray_logLF' is not defined",
       "output_type": "pyerr",
       "traceback": [
        "\u001b[1;31m---------------------------------------------------------------------------\u001b[0m\n\u001b[1;31mNameError\u001b[0m                                 Traceback (most recent call last)",
        "\u001b[1;32m<ipython-input-4-74420d3496cc>\u001b[0m in \u001b[0;36m<module>\u001b[1;34m()\u001b[0m\n\u001b[0;32m      1\u001b[0m \u001b[1;32mprint\u001b[0m \u001b[0mP_optical_Name\u001b[0m\u001b[1;33m\u001b[0m\u001b[0m\n\u001b[1;32m----> 2\u001b[1;33m \u001b[1;32mprint\u001b[0m \u001b[0mP_Xray_logLF\u001b[0m\u001b[1;33m\u001b[0m\u001b[0m\n\u001b[0m\u001b[0;32m      3\u001b[0m \u001b[1;32mprint\u001b[0m \u001b[0mwhere\u001b[0m\u001b[1;33m(\u001b[0m\u001b[0mP_Xray_logLF\u001b[0m \u001b[1;33m>\u001b[0m \u001b[1;36m38.5\u001b[0m\u001b[1;33m)\u001b[0m\u001b[1;33m\u001b[0m\u001b[0m\n",
        "\u001b[1;31mNameError\u001b[0m: name 'P_Xray_logLF' is not defined"
       ]
      }
     ],
     "prompt_number": 4
    },
    {
     "cell_type": "code",
     "collapsed": false,
     "input": [
      "PandyaAppendix4 = np.genfromtxt('Pandya X-Ray Detected X-ray Properties.csv', \\\n",
      "                                names=True,delimiter=',',dtype=None,unpack=True,skip_header=0)\n",
      "\n",
      "P_Xray_UCD = PandyaAppendix4['UCD']                 #Adopted UCD literature name\n",
      "P_Xray_f_UCD = PandyaAppendix4['f_UCD']             #Flag on UCD (1)\n",
      "P_Xray_Sys = PandyaAppendix4['Sys']                 #UCD host system\n",
      "P_Xray_Exp = PandyaAppendix4['Exp']                 #Total exposure time\n",
      "P_Xray_theta = PandyaAppendix4['theta']             #Average off-axis angle (2) \n",
      "P_Xray_sx = PandyaAppendix4['sx']                   #Separation between optical X-ray positions (3)\n",
      "P_Xray_R = PandyaAppendix4['R']                     #Average radius of circular aperture (4) \n",
      "P_Xray_NCF = PandyaAppendix4['NCF']                 #Net full band (0.5-7 keV) counts  \n",
      "P_Xray_e_NCF = PandyaAppendix4['e_NCF']             #The 1{sigma} uncertainty in NCF (5)\n",
      "P_Xray_NCH = PandyaAppendix4['NCH']                 #Net hard band (2-7 keV) counts \n",
      "P_Xray_e_NCH = PandyaAppendix4['e_NCH']             #The 1{sigma} uncertainty in NCH (5)\n",
      "P_Xray_NCS = PandyaAppendix4['NCS']                 #Net soft band (0.5-2 keV) counts  \n",
      "P_Xray_e_NCS = PandyaAppendix4['e_NCS']             #The 1{sigma} uncertainty in NCS (5)\n",
      "P_Xray_logFF = PandyaAppendix4['logFF']             #Log Full band (0.5-7 keV) flux; erg/s/cm^2^   \n",
      "P_Xray_E_logFF = PandyaAppendix4['E_logFF']         #Upper 90% confidence interval in FF \n",
      "P_Xray_e_logFF = PandyaAppendix4['e_logFF']         #Lower 90% confidence interval in FF \n",
      "P_Xray_logFH = PandyaAppendix4['logFH']             #Log Hard band (2-7 keV) flux; erg/s/cm^2^  \n",
      "P_Xray_E_logFH = PandyaAppendix4['E_logFH']         #Upper 90% confidence interval in FH   \n",
      "P_Xray_e_logFH = PandyaAppendix4['e_logFH']         #Lower 90% confidence interval in FH  \n",
      "P_Xray_logFS = PandyaAppendix4['logFS']             #Log Soft band (0.5-2 keV) flux; erg/s/cm^2^ \n",
      "P_Xray_E_logFS = PandyaAppendix4['E_logFS']         #Upper 90% confidence interval in FS   \n",
      "P_Xray_e_logFS = PandyaAppendix4['e_logFS']         #Lower 90% confidence interval in FS\n",
      "P_Xray_logLF = PandyaAppendix4['logLF']             #Log Full band (0.5-7 keV) luminosity; erg/s\n",
      "P_Xray_E_logLF = PandyaAppendix4['E_logLF']         #Upper 90% confidence interval in LF   \n",
      "P_Xray_e_logLF = PandyaAppendix4['e_logLF']         #Lower 90% confidence interval in LF\n",
      "P_Xray_logLH = PandyaAppendix4['logLH']             #Log Hard band (2-7 keV) luminosity; erg/s\n",
      "P_Xray_E_logLH = PandyaAppendix4['E_logLH']         #Upper 90% confidence interval in LH\n",
      "P_Xray_e_logLH = PandyaAppendix4['e_logLH']         #Lower 90% confidence interval in LH\n",
      "P_Xray_logLS = PandyaAppendix4['logLS']             #Log Soft band (0.5-2 keV) luminosity; erg/s\n",
      "P_Xray_E_logLS = PandyaAppendix4['E_logLS']         #Upper 90% confidence interval in LS\n",
      "P_Xray_e_logLS = PandyaAppendix4['e_logLS']         #Lower 90% confidence interval in LS\n",
      "P_Xray_HR = PandyaAppendix4['HR']                   #Classical hardness ratio (6)\n",
      "P_Xray_gamma = PandyaAppendix4['gamma']             #Best-fit power law photon index (7)\n",
      "P_Xray_E_gamma = PandyaAppendix4['E_gamma']         #Upper 90% confidence interval in gamma\n",
      "P_Xray_e_gamma = PandyaAppendix4['e_gamma']         #Lower 90% confidence interval in gamma"
     ],
     "language": "python",
     "metadata": {},
     "outputs": [],
     "prompt_number": 5
    },
    {
     "cell_type": "code",
     "collapsed": false,
     "input": [
      "a2p = ((pi/180.0)*(1.0/360.0))\n",
      "\n",
      "Seth_data = np.genfromtxt('Seth X-ray_only.csv', \\\n",
      "                                names=True,delimiter=',',dtype=None,unpack=True,skip_header=0)\n",
      "\n",
      "S_Xray_Name = Seth_data['Name']\n",
      "S_Xray_TType = Seth_data['TType']\n",
      "S_Xray_T = Seth_data['T']\n",
      "S_Xray_Dist = Seth_data['Dist']\n",
      "S_Xray_BMAG = Seth_data['BMAG']\n",
      "S_Xray_logM = Seth_data['logMG']\n",
      "S_Xray_r_logMG = Seth_data['r_logMG']\n",
      "S_Xray_reff = 1. / Seth_data['Reff']\n",
      "S_Xray_logMNC = Seth_data['logMNC']\n",
      "S_Xray_Sref = Seth_data['Sref']\n",
      "S_Xray_Simbad = Seth_data['Simbad']\n",
      "S_Xray_NED = Seth_data['NED']\n",
      "S_Xray_ra = Seth_data['_RA']\n",
      "S_Xray_dec = Seth_data['_DE']\n",
      "S_Xray_L = log10(Seth_data['Xray'])\n",
      "\n",
      "\n",
      "print S_Xray_reff\n",
      "print S_Xray_logM\n",
      "print P_optical_logM"
     ],
     "language": "python",
     "metadata": {},
     "outputs": [
      {
       "output_type": "stream",
       "stream": "stdout",
       "text": [
        "[ 16.66666667  25.          16.66666667   9.09090909   9.09090909  20.\n",
        "  11.11111111  20.           4.76190476   8.33333333  33.33333333  20.          25.\n",
        "  25.          14.28571429   7.14285714   5.55555556   8.33333333\n",
        "   5.88235294   5.88235294   5.55555556  16.66666667]\n",
        "[  9.9  10.3   9.6  10.7  10.1   9.9  10.9   9.2  10.    9.4   9.9   9.9\n",
        "   nan  10.6   nan  10.6  10.8   9.8  10.   10.3  11.   10.2]\n",
        "[ 6.8   6.9   6.3    nan   nan   nan   nan   nan  6.5   6.8   6.2   6.7\n",
        "  6.8   6.3   6.    6.3   7.    6.63  7.3   8.3    nan]\n"
       ]
      }
     ],
     "prompt_number": 6
    },
    {
     "cell_type": "code",
     "collapsed": false,
     "input": [
      "#Encounter Rate: (((10**logM)/(2.0*pi))**(3.0/2.0))*(rhl**(-5.0/2.0))\n",
      "#nLMXB: A*(M/M_sun)**Beta * 10**(delta*(g-z)) * (r/pc)**epsilon\n",
      "a2p = ((np.pi/180.0)*(1.0/3600.0))\n",
      "p2m = 3.086e16\n",
      "\n",
      "\n",
      "print P_optical_nLMXB\n",
      "#P_encounter = (((10**P_optical_logM)/(2.0*np.pi))**(3.0/2.0))*((P_optical_rhl*a2p)**(-5.0/2.0))\n",
      "#print P_encounter\n",
      "P_calculated_nLMXB = 8e-2*(10**P_optical_logM*4e-6)**1.237 * 10**.9 * (P_optical_rhl)**-2.22\n",
      "print P_calculated_nLMXB\n"
     ],
     "language": "python",
     "metadata": {},
     "outputs": [
      {
       "output_type": "stream",
       "stream": "stdout",
       "text": [
        "[  9.01000000e-01   2.90000000e-01   3.18000000e-01              nan\n",
        "              nan              nan              nan              nan\n",
        "   3.69000000e-01   1.18000000e-01   2.64000000e-01   6.20000000e-02\n",
        "   1.39300000e+00   1.56000000e-01   1.73000000e-01   1.30000000e-02\n",
        "   4.30000000e-02   2.70000000e-02   1.06000000e-01   3.02000000e-01\n",
        "   1.38750000e+01]\n",
        "[ 2.19123652  1.11172304  0.34484431         nan         nan         nan\n",
        "         nan         nan  0.57549059  0.39337087  0.4718514   0.34484231\n",
        "  2.43409346  0.48299946  0.24930859  0.03274573  0.18252339  0.10788162\n",
        "  0.36685438  2.09347647         nan]\n"
       ]
      },
      {
       "output_type": "stream",
       "stream": "stderr",
       "text": [
        "-c:10: RuntimeWarning: invalid value encountered in power\n"
       ]
      }
     ],
     "prompt_number": 7
    },
    {
     "cell_type": "code",
     "collapsed": false,
     "input": [
      "\n",
      "nLMXB_Seth = (8.0e-2)*(((10**S_Xray_logMNC)/(1e6))**1.237)*10.0**0.9*(S_Xray_reff)**(-2.22)\n",
      "print P_optical_nLMXB\n",
      "print nLMXB_Seth"
     ],
     "language": "python",
     "metadata": {},
     "outputs": [
      {
       "output_type": "stream",
       "stream": "stdout",
       "text": [
        "[  9.01000000e-01   2.90000000e-01   3.18000000e-01              nan\n",
        "              nan              nan              nan              nan\n",
        "   3.69000000e-01   1.18000000e-01   2.64000000e-01   6.20000000e-02\n",
        "   1.39300000e+00   1.56000000e-01   1.73000000e-01   1.30000000e-02\n",
        "   4.30000000e-02   2.70000000e-02   1.06000000e-01   3.02000000e-01\n",
        "   1.38750000e+01]\n",
        "[  2.17763838e-03   1.56481560e-03   3.84933548e-03   1.03486035e+01\n",
        "   1.44338354e-01   6.03536301e-03   9.02627078e-01   1.09270617e-03\n",
        "   1.42533458e+00   1.31695930e-01   4.56351174e-03   6.03536301e-03\n",
        "   8.85244358e-04   4.88948556e-03   3.06625053e-03   3.20032605e+00\n",
        "   5.59107024e+00   1.38156828e-03   3.79390623e-01   6.54766713e+00\n",
        "   7.43352743e+00   2.07580122e-01]\n"
       ]
      }
     ],
     "prompt_number": 10
    },
    {
     "cell_type": "code",
     "collapsed": false,
     "input": [
      "from pylab import *\n",
      "mainfig = figure()\n",
      "title('Full Band Luminosity (0.5-7.0 keV) vs. Effective Radius')\n",
      "ylabel('$\\mathrm{Log \\, Luminosity \\, [erg \\, s^{-1}] }$') #Observed\n",
      "xlabel('$\\mathrm{Effective \\, Radius \\, [pc]}$') #\n",
      "grid('on')\n",
      "yerrlogLF = [P_Xray_e_logLF, P_Xray_E_logLF]\n",
      "\n",
      "#axhline(y=log10(1.3e38), ls='--', linewidth=2, color = 'lightblue', label='L$_{Edd}$ $M_{BH} / M_{\\odot}$')\n",
      "\n",
      "#A 10^6Msun black hole would account for ~ 10% of the typical\n",
      "#UCD's dynamical mass, similar to the black hole mass fraction\n",
      "#found in M60-UCD1\n",
      "\n",
      "plot(P_optical_logM,P_Xray_logLF,'o',color='cornflowerblue',label='Pandya UCDs')\n",
      "plot(S_Xray_logMNC, S_Xray_L,'o',color='crimson',label='Seth NSCs')\n",
      "\n",
      "\n",
      "#errorbar(P_optical_rhl,P_Xray_logLF, yerr=yerrlogLF, fmt=',',color='lightcoral',label='Pandya UCDs Luminosity Error')\n",
      "\n",
      "#text(P_optical_rhl[18]+.075,P_Xray_logLF[18],'SUCD1', color='k', fontsize=12)\n",
      "#text(P_optical_rhl[19]-.5,P_Xray_logLF[19]+.05,'M60-UCD1', color='k', fontsize=12)\n",
      "\n",
      "\n",
      "lgd = legend(bbox_to_anchor=(1.05, 1), loc=2, borderaxespad=0.)\n",
      "#savefig('lumvsrhl020917.png', bbox_extra_artists=(lgd,), bbox_inches='tight')\n",
      "\n"
     ],
     "language": "python",
     "metadata": {},
     "outputs": [
      {
       "metadata": {},
       "output_type": "display_data",
       "png": "[encoded data removed]",
       "text": [
        "<matplotlib.figure.Figure at 0x6f41198>"
       ]
      }
     ],
     "prompt_number": 18
    },
    {
     "cell_type": "code",
     "collapsed": false,
     "input": [
      "massfig = figure()\n",
      "title('Mass vs. Half-light Radius')\n",
      "ylabel('$\\mathrm{Mass \\, [Msun]}$') #Observed\n",
      "xlabel('$\\mathrm{Half-light \\, Radius \\, [pc]}$') #\n",
      "grid('on')\n",
      "xerrlogLF = [P_optical_e_rhl, P_optical_e_rhl]\n",
      "\n",
      "#axhline(y=log10(1.3e38), ls='--', linewidth=2, color = 'lightblue', label='L$_{Edd}$ $M_{BH} / M_{\\odot}$')\n",
      "\n",
      "#A 10^6Msun black hole would account for ~ 10% of the typical\n",
      "#UCD's dynamical mass, similar to the black hole mass fraction\n",
      "#found in M60-UCD1\n",
      "\n",
      "plot(P_optical_rhl,P_optical_logM,'o',color='cornflowerblue',label='Pandya UCDs')\n",
      "plot(14,log10(2.4e7),'o',color='green',label='Stephanie UCD')\n",
      "plot(S_Xray_reff, S_Xray_logMNC,'o',color='crimson',label='Seth')\n",
      "errorbar(P_optical_rhl,P_optical_logM, xerr=xerrlogLF, fmt=',',color='lightcoral',label='Pandya UCDs Luminosity Error')\n",
      "\n",
      "text(P_optical_rhl[18]+.5,P_optical_logM[18]-.175,'SUCD1', color='k', fontsize=12)\n",
      "text(P_optical_rhl[19]-5.5,P_optical_logM[19],'M60-UCD1', color='k', fontsize=12)\n",
      "\n",
      "lgd2 = legend(bbox_to_anchor=(1.05, 1), loc=2, borderaxespad=0.)\n",
      "savefig('hlrvsmass020917.png', bbox_extra_artists=(lgd2,), bbox_inches='tight')"
     ],
     "language": "python",
     "metadata": {},
     "outputs": [
      {
       "metadata": {},
       "output_type": "display_data",
       "png": "[encoded data removed]",
       "text": [
        "<matplotlib.figure.Figure at 0x7b8e828>"
       ]
      }
     ],
     "prompt_number": 14
    },
    {
     "cell_type": "code",
     "collapsed": false,
     "input": [
      "radec = np.vstack((P_optical_RA,P_optical_Dec))\n",
      "print radec"
     ],
     "language": "python",
     "metadata": {},
     "outputs": [
      {
       "output_type": "stream",
       "stream": "stdout",
       "text": [
        "[[  54.64083   54.82375   54.55291   54.54333   54.675     54.55008\n",
        "    54.55937   54.67975  201.34245  201.52254  201.41616  201.46975\n",
        "   201.47741  201.5322   201.54408  201.3762   201.38167  201.27383\n",
        "   190.01304  190.8999   186.34516]\n",
        " [  35.43255   35.42503   35.4825    35.40172   35.55361   35.66589\n",
        "    35.4455    35.46708   43.046     42.94233   43.08386   43.09622\n",
        "    42.99039   42.86675   42.89519   42.993     43.00078   43.17519\n",
        "    11.66786   11.5347    18.18158]]\n"
       ]
      }
     ],
     "prompt_number": 22
    }
   ],
   "metadata": {}
  }
 ]
}