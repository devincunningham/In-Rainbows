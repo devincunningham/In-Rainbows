{
 "cells": [
  {
   "cell_type": "code",
   "execution_count": null,
   "metadata": {
    "collapsed": true
   },
   "outputs": [],
   "source": [
    "import pandas as pd\n",
    "import numpy as np\n",
    "from sklearn.cross_validation import train_test_split"
   ]
  },
  {
   "cell_type": "code",
   "execution_count": 28,
   "metadata": {},
   "outputs": [
    {
     "name": "stdout",
     "output_type": "stream",
     "text": [
      "          0         1\n",
      "0  1.137071  1.363941\n",
      "1  0.535103 -0.677582\n",
      "2  0.029993  0.866040\n",
      "3 -0.062176 -1.502822\n",
      "4  0.155492  0.448159\n",
      "5  0.467749 -0.723912\n",
      "6 -1.132522  0.114940\n",
      "7 -0.898026 -0.190429\n",
      "8 -0.339924 -0.410247\n",
      "9 -0.754272  1.280388\n",
      "X\n",
      "          0         1\n",
      "2  0.029993  0.866040\n",
      "8 -0.339924 -0.410247\n",
      "4  0.155492  0.448159\n",
      "9 -0.754272  1.280388\n",
      "1  0.535103 -0.677582\n",
      "\n",
      "Y\n",
      "2    1\n",
      "8    1\n",
      "4    1\n",
      "9    1\n",
      "1    0\n",
      "dtype: int32\n",
      "          0         1\n",
      "6 -1.132522  0.114940\n",
      "7 -0.898026 -0.190429\n",
      "3 -0.062176 -1.502822\n",
      "0  1.137071  1.363941\n",
      "5  0.467749 -0.723912\n"
     ]
    }
   ],
   "source": [
    "data = np.reshape(np.random.randn(20),(10,2)) # 10 training examples\n",
    "labels = np.random.randint(2, size=10) # 10 labels\n",
    "\n",
    "X = pd.DataFrame(data)\n",
    "print X\n",
    "y = pd.Series(labels)\n",
    "test_size=.5\n",
    "\n",
    "X_train, X_test, y_train, y_test = train_test_split(X, y, test_size=test_size, random_state=0)\n",
    "\n",
    "print \"X\\n\", X_test\n",
    "\n",
    "#      0       1\n",
    "# 2   -1.39   -1.86\n",
    "# 8    0.48   -0.81\n",
    "# 4   -0.10   -1.83\n",
    "print \"\\nY\\n\", y_test\n",
    "\n",
    "print X_train"
   ]
  }
 ],
 "metadata": {
  "kernelspec": {
   "display_name": "Python 2",
   "language": "python",
   "name": "python2"
  },
  "language_info": {
   "codemirror_mode": {
    "name": "ipython",
    "version": 2
   },
   "file_extension": ".py",
   "mimetype": "text/x-python",
   "name": "python",
   "nbconvert_exporter": "python",
   "pygments_lexer": "ipython2",
   "version": "2.7.13"
  }
 },
 "nbformat": 4,
 "nbformat_minor": 2
}
