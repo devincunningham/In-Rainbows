{
 "cells": [
  {
   "cell_type": "code",
   "execution_count": 2,
   "metadata": {
    "collapsed": true
   },
   "outputs": [],
   "source": [
    "import matplotlib.pyplot as plt\n",
    "import numpy as np\n",
    "import matplotlib.gridspec as gridspec\n",
    "from scipy.interpolate import UnivariateSpline, interp1d\n",
    "%matplotlib inline"
   ]
  },
  {
   "cell_type": "code",
   "execution_count": 3,
   "metadata": {
    "collapsed": true
   },
   "outputs": [],
   "source": [
    "## u, g, r, i, z, pet_r, d = np.genfromtxt(\"KnownUCDs.txt\", skip_header=1,usecols=(1,2,3,4,5,6,7), unpack=True);\n",
    "name = np.genfromtxt(\"KnownUCDs.txt\", dtype=str,skip_header=1,usecols=0);\n",
    "\n",
    "data = np.genfromtxt(\"chrisdata2.txt\", skip_header=0, names=True, delimiter=',', skip_footer=0, unpack=True);\n",
    "name = np.genfromtxt(\"chrisdata2.txt\", dtype=str,skip_header=0,usecols=0);\n",
    "good_colors = ((data['modelmag_u'] < 26) & (data['modelmag_g'] < 26) & (data['modelmag_r'] < 26) \\\n",
    "               & (data['modelmag_i'] < 26) & (data['modelmag_z'] < 26) & (data['modelmag_u'] > 0))\n",
    "u = data['modelmag_u'][good_colors]\n",
    "g = data['modelmag_g'][good_colors]\n",
    "r = data['modelmag_r'][good_colors]\n",
    "i = data['modelmag_i'][good_colors]\n",
    "z = data['modelmag_z'][good_colors]\n",
    "redshift = data['redshift'][good_colors]\n",
    "pet_r = data['petrorad_r'][good_colors]"
   ]
  },
  {
   "cell_type": "code",
   "execution_count": 4,
   "metadata": {},
   "outputs": [
    {
     "name": "stdout",
     "output_type": "stream",
     "text": [
      "[ 'objid,ra,dec,devrad_r,fracdev_r,exprad_r,redshift,modelmag_u,modelmag_g,modelmag_r,modelmag_i,modelmag_z,petrorad_r,petroR50_r,snMedian,clean,h_m_2mass,j_m_2mass,k_m_2mass,classification,w1mag,w2mag,w3mag,w4mag'\n",
      " '1237674371287548171,116.588946651538,17.6036056948204,0.05142346,0,0.04516216,0.0003493434,17.51369,15.96027,15.29521,15.02669,14.8843,1.192041,0.6165183,67.58797,1,13.387,13.908,13.295,6,13.255,13.371,12.048,8.555'\n",
      " '1237667211042160837,126.292022678102,16.3659250171292,0.003917635,0,0.004518464,0.0008578859,18.8692,17.72289,17.28548,17.10879,17.04476,0.9325271,0.4836837,32.28337,1,15.668,16.176,15.369,6,16.054,16.032,11.841,8.499'\n",
      " ...,\n",
      " '1237668332026986502,217.872088494264,14.7913511941293,0.05022022,1,0.05410524,0.0004859416,18.71196,17.86167,17.55767,17.44419,17.39969,1.142762,0.5835786,25.87381,1,16.379,16.594,15.875,6,16.53,15.828,13.066,8.987'\n",
      " '1237648702984093834,223.724442522941,-1.10421836867483,0.0262444,0,0.03259492,0.0006876613,17.64437,16.01042,15.3087,15.00331,14.84099,1.097673,0.5657105,59.47302,1,13.254,13.782,13.147,6,13.094,13.15,12.356,8.457'\n",
      " '1237662268079866372,241.196726167475,4.60713199052258,5.600458E-05,1,0.0001664287,0.0003162732,19.57639,17.89839,17.14213,16.81904,16.64007,0.8826556,0.4649005,38.19664,1,15.14,15.615,14.947,6,15.008,15.047,12.034,8.143']\n"
     ]
    }
   ],
   "source": [
    "print name"
   ]
  },
  {
   "cell_type": "code",
   "execution_count": 6,
   "metadata": {},
   "outputs": [
    {
     "name": "stdout",
     "output_type": "stream",
     "text": [
      "126.292022678\n",
      "16.3659250171\n"
     ]
    }
   ],
   "source": [
    "print data['ra'][1]\n",
    "print data['dec'][1]"
   ]
  },
  {
   "cell_type": "code",
   "execution_count": null,
   "metadata": {
    "collapsed": true
   },
   "outputs": [],
   "source": [
    "#name = np.genfromtxt(\"KnownUCDs.txt\", dtype=str,skip_header=1,usecols=0);\n",
    "#m_V = g - 0.5784 * (g-r) - 0.0038;\n",
    "#d = redshift * 3e8 / 68000.\n",
    "#print d\n",
    "#DistanceModulus = 5 *  (np.log10(d*1e-6) + 5);\n",
    "#M = m_V - DistanceModulus;\n",
    "#print M\n",
    "color_ug = u-g\n",
    "color_ur = u-r\n",
    "color_ui = u-i\n",
    "color_uz = u-z\n",
    "color_gr = g-r\n",
    "color_gi = g-i\n",
    "color_gz = g-z\n",
    "color_ri = r-i\n",
    "color_rz = r-z\n",
    "colors = [color_ug, color_ur, color_ui, color_uz, color_gr, color_gi, color_gz, color_ri, color_rz]\n",
    "colornames = ['color_ug', 'color_ur', 'color_ui', 'color_uz', 'color_gr', 'color_gi', 'color_gz', 'color_ri', 'color_rz']"
   ]
  },
  {
   "cell_type": "code",
   "execution_count": null,
   "metadata": {
    "collapsed": true
   },
   "outputs": [],
   "source": [
    "height_ratios = [5, 5, 5, 5, 5, 5]\n",
    "width_ratios = [5, 5, 5, 5, 5, 5]\n",
    "wspace = 1.25\n",
    "hspace = 1.25\n",
    "x = 0\n",
    "y = 0\n",
    "fig = plt.figure(figsize=(sum(width_ratios) + wspace *\n",
    "                          (len(width_ratios) - 1),\n",
    "                          sum(height_ratios) + hspace *\n",
    "                          (len(height_ratios) - 1)))\n",
    "gs = gridspec.GridSpec(len(height_ratios),\n",
    "                       len(width_ratios),\n",
    "                       height_ratios=height_ratios,\n",
    "                       width_ratios=width_ratios)\n",
    "\n",
    "fig.suptitle('', fontsize=20)\n",
    "location = 0\n",
    "for i, icolor in enumerate(colors):\n",
    "    for j, jcolor in enumerate(colors):\n",
    "        if i != j and j > i:\n",
    "            ax = fig.add_subplot(gs[location])\n",
    "            ax.scatter(icolor, jcolor, c='navy',marker='o',alpha='.25', s = 5);\n",
    "            fit = np.polyfit(icolor, jcolor, 1)\n",
    "            fit = np.poly1d(fit_data_johnson_R)\n",
    "            fit_x = np.linspace(min(data_johnson_R['R_in']), max(data_johnson_R['R_in']), 10000)\n",
    "#             for k, kval in enumerate(name[0]):\n",
    "#                ax.annotate(kval, xy=(icolor[k],jcolor[k]));\n",
    "            ax.update({'title': '',\n",
    "                        'ylabel': '{}'.format(colornames[j]),\n",
    "                        'xlabel': '{}'.format(colornames[i])})\n",
    "            ax.set_facecolor('whitesmoke')\n",
    "            ax.patch.set_alpha(.25)\n",
    "#             ax.set_xlim((min(icolor)*.9, max(icolor)*1.1))\n",
    "#             ax.set_ylim((min(jcolor)*.9, max(jcolor)*1.1))\n",
    "\n",
    "            plt.minorticks_on()\n",
    "            plt.tick_params('both', length=8, which='major')\n",
    "            plt.tick_params('both',length=3, which='minor')\n",
    "            plt.grid(True, which='major', ls='dashed', alpha=.5)\n",
    "            plt.grid(True, which='minor', ls='dashed', alpha=.15)\n",
    "            location += 1\n",
    "plt.savefig('fig.png')\n",
    "plt.show()\n",
    "\n",
    "#Plot redshift z vs i to see variance in color per distance (linear data means more reliable data)"
   ]
  }
 ],
 "metadata": {
  "kernelspec": {
   "display_name": "Python 2",
   "language": "python",
   "name": "python2"
  },
  "language_info": {
   "codemirror_mode": {
    "name": "ipython",
    "version": 2
   },
   "file_extension": ".py",
   "mimetype": "text/x-python",
   "name": "python",
   "nbconvert_exporter": "python",
   "pygments_lexer": "ipython2",
   "version": "2.7.13"
  }
 },
 "nbformat": 4,
 "nbformat_minor": 2
}
