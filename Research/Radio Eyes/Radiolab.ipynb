{
 "cells": [
  {
   "cell_type": "code",
   "execution_count": null,
   "metadata": {
    "collapsed": true
   },
   "outputs": [],
   "source": []
  },
  {
   "cell_type": "code",
   "execution_count": null,
   "metadata": {},
   "outputs": [],
   "source": [
    "%cd Dixon"
   ]
  },
  {
   "cell_type": "code",
   "execution_count": 1,
   "metadata": {
    "collapsed": true,
    "scrolled": false
   },
   "outputs": [],
   "source": [
    "import numpy as np\n",
    "from numpy import inf\n",
    "import math\n",
    "import matplotlib\n",
    "import matplotlib.pyplot as plt\n",
    "from matplotlib.colors import LogNorm\n",
    "from matplotlib.colors import Colormap\n",
    "import scipy\n",
    "from scipy import io\n",
    "import glob\n",
    "from astropy.convolution import convolve, convolve_fft, Gaussian2DKernel\n",
    "import aplpy\n",
    "from astropy.wcs import WCS\n",
    "from astropy.io import fits\n",
    "from astropy import units as u\n",
    "from astropy.coordinates import SkyCoord\n",
    "import pyvo as vo\n",
    "from urllib import urlretrieve\n",
    "import copy\n",
    "import re\n",
    "\n",
    "def downloadTGSS(fitsRA, fitsDEC, framesize=.5, frame='icrs', NVSS=False, filename=None):\n",
    "\n",
    "    \"\"\"\n",
    "    This is used to download a FITS image file of an extended object from TGSS or NVSS. It\n",
    "    takes a .sav file and an object ID, and outputs the name of the FITS file that is downloaded.\n",
    "    \n",
    "    Args:\n",
    "        data: A .sav file that has been run through clst.collector\n",
    "        EOid (int): the 5-digit ID describing the extended object (must be from data)\n",
    "        NVSS (boolean): \n",
    "            if True, downloads a FITS file of the object from NVSS\n",
    "            if False, uses TGSS instead of NVSS (default is False)\n",
    "            \n",
    "    Returns: \n",
    "        filename: name of the FITS file which is downloaded, based on EOid, RA, and DEC.\n",
    "    \"\"\"\n",
    "    \n",
    "    from astropy.coordinates import SkyCoord\n",
    "    import pyvo as vo\n",
    "    from urllib import urlretrieve\n",
    "    \n",
    "    myLocation = SkyCoord(fitsRA*u.deg, fitsDEC*u.deg, frame = frame)\n",
    "\n",
    "    if NVSS == False:\n",
    "        query = vo.sia.SIAQuery('http://skyview.gsfc.nasa.gov/cgi-bin/vo/sia.pl?survey=TGSS&',\n",
    "                                pos=(myLocation.ra.deg, myLocation.dec.deg),\n",
    "                                size = framesize, format='image/fits')\n",
    "        if filename is None:\n",
    "            filename = 'RA{}_DEC{}_TGSS.fits'.format(myLocation.ra.deg, myLocation.dec.deg)\n",
    "        else:\n",
    "            filename = filename\n",
    "    else:\n",
    "        query = vo.sia.SIAQuery('http://skyview.gsfc.nasa.gov/cgi-bin/vo/sia.pl?survey=NVSS&',\n",
    "                                pos=(myLocation.ra.deg, myLocation.dec.deg),\n",
    "                                size = framesize, format='image/fits')\n",
    "        if filename is None:\n",
    "            filename = 'RA{}_DEC{}_NVSS.fits'.format(myLocation.ra.deg, myLocation.dec.deg)\n",
    "        else:\n",
    "            filename = filename\n",
    "    print query\n",
    "    results = query.execute()\n",
    "    #now we extract the url of the fits file we want\n",
    "    url = results[0].getdataurl()\n",
    "\n",
    "    #and download it somewhwere. I’ve hardcoded the name, but you’ll want to have this name change\n",
    "    urlretrieve(url, filename)\n",
    "\n",
    "    fitsimage = '{}'.format(filename)\n",
    "    \n",
    "    fig = plt.figure(figsize=(8,8))\n",
    "    fig.suptitle('')\n",
    "\n",
    "\n",
    "    ax = aplpy.FITSFigure(fitsimage,figure=fig,)\n",
    "    ax.show_colorscale(cmap='gray',vmin=0)   \n",
    "    ax.add_colorbar()\n",
    "\n",
    "    ax.show_scalebar(1)\n",
    "    ax.scalebar.set_length(2 * u.arcminute)\n",
    "    ax.scalebar.set_corner(corner='bottom right')\n",
    "    ax.scalebar.set_label(\"2 arcminutes\")\n",
    "    ax.scalebar.set_color('blue')\n",
    "    ax.scalebar.set_frame(True)\n",
    "\n",
    "    ax.set_title('{}'.format(filename))\n",
    "    ax.set_xaxis_coord_type('scalar')\n",
    "    ax.set_yaxis_coord_type('scalar')\n",
    "    ax.tick_labels.set_xformat('%11.3f')\n",
    "    ax.tick_labels.set_yformat('%11.3f')\n",
    "\n",
    "\n",
    "    ax = fig.gca()\n",
    "\n",
    "    ax.patch.set_alpha(0.0)\n",
    "    plt.savefig('{}.png'.format(filename))\n",
    "    plt.show()"
   ]
  },
  {
   "cell_type": "code",
   "execution_count": null,
   "metadata": {},
   "outputs": [],
   "source": [
    "print SkyCoord('00 42 32.3 +40 34 19', unit=(u.hourangle, u.deg))"
   ]
  },
  {
   "cell_type": "code",
   "execution_count": null,
   "metadata": {
    "collapsed": true
   },
   "outputs": [],
   "source": [
    "downloadTGSS(10.63458333,  40.57194444, framesize=.015, filename='AND IV')"
   ]
  },
  {
   "cell_type": "code",
   "execution_count": null,
   "metadata": {},
   "outputs": [],
   "source": [
    "%cd Dixon\n",
    "Chris = np.genfromtxt('combined-radii-visually-inspected-5-23-17.txt', \\\n",
    "                      names=True,delimiter=',',dtype=None,unpack=True,skip_header=0)"
   ]
  },
  {
   "cell_type": "code",
   "execution_count": null,
   "metadata": {
    "scrolled": true
   },
   "outputs": [],
   "source": [
    "for i in range(len(Chris['objid'])):\n",
    "    downloadTGSS(Chris['ra'][i],  Chris['dec'][i], framesize=.05, filename='{}_framedeg{}'.format(Chris['objid'][i],.05))"
   ]
  },
  {
   "cell_type": "code",
   "execution_count": null,
   "metadata": {},
   "outputs": [],
   "source": [
    "print np.where(Chris['objid']==1237667444048658450)"
   ]
  },
  {
   "cell_type": "code",
   "execution_count": null,
   "metadata": {},
   "outputs": [],
   "source": [
    "print Chris['ra'][0]"
   ]
  },
  {
   "cell_type": "code",
   "execution_count": null,
   "metadata": {},
   "outputs": [],
   "source": [
    "downloadTGSS(Chris['ra'][0],  Chris['dec'][0], framesize=.02, filename='smaller')"
   ]
  },
  {
   "cell_type": "code",
   "execution_count": null,
   "metadata": {},
   "outputs": [],
   "source": [
    "services = vo.regsearch(servicetype='sia', waveband='x-ray')\n",
    "for service in services:\n",
    "    print(service.res_title)"
   ]
  },
  {
   "cell_type": "code",
   "execution_count": null,
   "metadata": {},
   "outputs": [],
   "source": [
    "for service in services:\n",
    "    print service.res_title, service.access_url"
   ]
  },
  {
   "cell_type": "code",
   "execution_count": 2,
   "metadata": {},
   "outputs": [
    {
     "name": "stdout",
     "output_type": "stream",
     "text": [
      "CSIRO ASKAP Science Data Archive Image Access Service https://casda.csiro.au/casda_vo_tools/sia2/query?\n",
      "Cosmic Evolution Survey with HST https://irsa.ipac.caltech.edu/cgi-bin/Atlas/nph-atlas?mission=COSMOS&hdr_location=%5CCOSMOSDataPath%5C&collection_desc=Cosmic+Evolution+Survey+with+HST+%28COSMOS%29&SIAP_ACTIVE=1&\n",
      "VLA-A Array AL218 Texas Survey Source Snapshots (AL218) http://archive.stsci.edu/siap/search.php?id=al218&\n",
      "VLA Faint Images of the Radio Sky at Twenty Centimeters (FIRST) http://archive.stsci.edu/siap/search.php?id=vla-first&\n",
      "Bonn 1420 MHz Survey https://skyview.gsfc.nasa.gov/cgi-bin/vo/sia.pl?survey=1420mhz&\n",
      "HI All-Sky Continuum Survey https://skyview.gsfc.nasa.gov/cgi-bin/vo/sia.pl?survey=408mhz&\n",
      "LABOCA Extended Chandra Deep Field South Submillimetre Survey https://skyview.gsfc.nasa.gov/cgi-bin/vo/sia.pl?survey=cdfs-less&\n",
      "CO Galactic Plane Survey https://skyview.gsfc.nasa.gov/cgi-bin/vo/sia.pl?survey=co&\n",
      "Effelsberg-Bonn HI Survey https://skyview.gsfc.nasa.gov/cgi-bin/vo/sia.pl?survey=ebhis&\n",
      "FIRST https://skyview.gsfc.nasa.gov/cgi-bin/vo/sia.pl?survey=first&\n",
      "GOODS North Observations with the VLA https://skyview.gsfc.nasa.gov/cgi-bin/vo/sia.pl?survey=goodsnvla&\n",
      "GTEE 0035 MHz Radio survey https://skyview.gsfc.nasa.gov/cgi-bin/vo/sia.pl?survey=gtee&\n",
      "The HI 4-PI Survey https://skyview.gsfc.nasa.gov/cgi-bin/vo/sia.pl?survey=hi4pi&\n",
      "Dickey and Lockman HI map https://skyview.gsfc.nasa.gov/cgi-bin/vo/sia.pl?survey=nh&\n",
      "NRA) VLA Sky Survey https://skyview.gsfc.nasa.gov/cgi-bin/vo/sia.pl?survey=nvss&\n",
      "4850 MHz Survey - GB6/PMN https://skyview.gsfc.nasa.gov/cgi-bin/vo/sia.pl?survey=pmn&\n",
      "VLA Survey of SDSS Stripe 82 https://skyview.gsfc.nasa.gov/cgi-bin/vo/sia.pl?survey=stripe82vla&\n",
      "Sydney University Molonglo Sky Survey https://skyview.gsfc.nasa.gov/cgi-bin/vo/sia.pl?survey=sumss&\n",
      "GMRT 150 MHz All-sky Radio Survey: First Alternative Data Release https://skyview.gsfc.nasa.gov/cgi-bin/vo/sia.pl?survey=tgss&\n",
      "VLA Low-frequency Sky Survey https://skyview.gsfc.nasa.gov/cgi-bin/vo/sia.pl?survey=vlss&\n",
      "Westerbork Northern Sky Survey https://skyview.gsfc.nasa.gov/cgi-bin/vo/sia.pl?survey=wenss&\n",
      "VLBI images of Lockman Hole radio sources http://dc.zah.uni-heidelberg.de/emi/q/s/siap.xml?\n"
     ]
    }
   ],
   "source": [
    "cats = vo.regsearch(servicetype='sia', waveband='radio')\n",
    "for cat in cats:\n",
    "    print cat.res_title, cat.access_url"
   ]
  },
  {
   "cell_type": "code",
   "execution_count": 3,
   "metadata": {},
   "outputs": [
    {
     "name": "stdout",
     "output_type": "stream",
     "text": [
      "https://irsa.ipac.caltech.edu/cgi-bin/Atlas/nph-atlas?mission=COSMOS&hdr_location=%5CCOSMOSDataPath%5C&collection_desc=Cosmic+Evolution+Survey+with+HST+%28COSMOS%29&SIAP_ACTIVE=1&\n"
     ]
    }
   ],
   "source": [
    "print cats[1].access_url"
   ]
  },
  {
   "cell_type": "code",
   "execution_count": null,
   "metadata": {
    "collapsed": true
   },
   "outputs": [],
   "source": [
    "def showVLA(fitsRA, fitsDEC, x, framesize=.5, frame='icrs', NVSS=False, filename=None):\n",
    "\n",
    "    \"\"\"\n",
    "    This is used to download a FITS image file of an extended object from TGSS or NVSS. It\n",
    "    takes a .sav file and an object ID, and outputs the name of the FITS file that is downloaded.\n",
    "    \n",
    "    Args:\n",
    "        data: A .sav file that has been run through clst.collector\n",
    "        EOid (int): the 5-digit ID describing the extended object (must be from data)\n",
    "        NVSS (boolean): \n",
    "            if True, downloads a FITS file of the object from NVSS\n",
    "            if False, uses TGSS instead of NVSS (default is False)\n",
    "            \n",
    "    Returns: \n",
    "        filename: name of the FITS file which is downloaded, based on EOid, RA, and DEC.\n",
    "    \"\"\"\n",
    "    \n",
    "    from astropy.coordinates import SkyCoord\n",
    "    import pyvo as vo\n",
    "    from urllib import urlretrieve\n",
    "    \n",
    "    myLocation = SkyCoord(fitsRA*u.deg, fitsDEC*u.deg, frame = frame)\n",
    "\n",
    "    query = vo.sia.SIAQuery(cats[x].access_url,\n",
    "                            pos=(myLocation.ra.deg, myLocation.dec.deg),\n",
    "                            size = framesize, format='image/fits')\n",
    "    if filename is None:\n",
    "        filename = 'RA{}_DEC{}_VLA.fits'.format(myLocation.ra.deg, myLocation.dec.deg)\n",
    "    else:\n",
    "        filename = filename\n",
    "\n",
    "    print query\n",
    "    results = query.execute()\n",
    "    #now we extract the url of the fits file we want\n",
    "    url = results[0].getdataurl()\n",
    "\n",
    "    #and download it somewhwere. I’ve hardcoded the name, but you’ll want to have this name change\n",
    "    urlretrieve(url, filename)\n",
    "\n",
    "    fitsimage = '{}'.format(filename)\n",
    "    \n",
    "    fig = plt.figure(figsize=(8,8))\n",
    "    fig.suptitle('')\n",
    "\n",
    "\n",
    "    ax = aplpy.FITSFigure(fitsimage,figure=fig,)\n",
    "    ax.show_colorscale(cmap='gray',vmin=0)   \n",
    "    ax.add_colorbar()\n",
    "\n",
    "    ax.show_scalebar(1)\n",
    "    ax.scalebar.set_length(2 * u.arcminute)\n",
    "    ax.scalebar.set_corner(corner='bottom right')\n",
    "    ax.scalebar.set_label(\"2 arcminutes\")\n",
    "    ax.scalebar.set_color('blue')\n",
    "    ax.scalebar.set_frame(True)\n",
    "\n",
    "    ax.set_title('{}'.format(filename))\n",
    "    ax.set_xaxis_coord_type('scalar')\n",
    "    ax.set_yaxis_coord_type('scalar')\n",
    "    ax.tick_labels.set_xformat('%11.3f')\n",
    "    ax.tick_labels.set_yformat('%11.3f')\n",
    "\n",
    "\n",
    "    ax = fig.gca()\n",
    "\n",
    "    ax.patch.set_alpha(0.0)\n",
    "    plt.savefig('{}.png'.format(filename))\n",
    "    plt.show()"
   ]
  },
  {
   "cell_type": "code",
   "execution_count": null,
   "metadata": {},
   "outputs": [],
   "source": [
    "print SkyCoord('00 47 33.134 -25 17 19.68', unit=(u.hourangle, u.deg))"
   ]
  },
  {
   "cell_type": "code",
   "execution_count": null,
   "metadata": {},
   "outputs": [],
   "source": [
    "showVLA(Chris['ra'][2],  Chris['dec'][2], 16, framesize=5)"
   ]
  }
 ],
 "metadata": {
  "kernelspec": {
   "display_name": "Python 2",
   "language": "python",
   "name": "python2"
  },
  "language_info": {
   "codemirror_mode": {
    "name": "ipython",
    "version": 2
   },
   "file_extension": ".py",
   "mimetype": "text/x-python",
   "name": "python",
   "nbconvert_exporter": "python",
   "pygments_lexer": "ipython2",
   "version": "2.7.13"
  }
 },
 "nbformat": 4,
 "nbformat_minor": 2
}
