{
 "cells": [
  {
   "cell_type": "code",
   "execution_count": 2,
   "metadata": {
    "collapsed": true
   },
   "outputs": [],
   "source": [
    "from astropy.coordinates import SkyCoord\n",
    "import csv\n",
    "import numpy as np\n",
    "import os\n",
    "import pyvo as vo\n",
    "import time"
   ]
  },
  {
   "cell_type": "code",
   "execution_count": null,
   "metadata": {
    "collapsed": true
   },
   "outputs": [],
   "source": [
    "Norris = np.genfromtxt(\"Norrisdatabest.csv\", skip_header=0, names=True, delimiter=',', skip_footer=0, unpack=True, dtype=None)"
   ]
  },
  {
   "cell_type": "code",
   "execution_count": null,
   "metadata": {},
   "outputs": [],
   "source": [
    "print Norris['type']"
   ]
  },
  {
   "cell_type": "code",
   "execution_count": 3,
   "metadata": {},
   "outputs": [],
   "source": [
    "def ChandraExtractor(RAs, DECs, radius=.008, include_data=None, include_headers=None):\n",
    "    import warnings\n",
    "    url = 'http://cda.harvard.edu/cscvo/coneSearch?'\n",
    "    \n",
    "    if not os.path.exists(\"Chandra\"):\n",
    "        os.mkdir(\"Chandra\")\n",
    "        \n",
    "    \n",
    "    \n",
    "    with open('Chandra/ChandraObs'+time.strftime(\"%Y.%m.%d.%H.%M.%S\")+'.csv','w') as f1:\n",
    "        writer=csv.writer(f1, delimiter=',', lineterminator='\\n')\n",
    "        row = ['hard_hm_lolim', 'var_intra_index_w', 'hard_ms_lolim',\n",
    "               'hard_hm', 'var_intra_index_b', 'extent_flag',\n",
    "               'flux_aper_hilim_b', 'flux_aper_lolim_w', 'flux_aper_hilim_w',\n",
    "               'flux_aper_lolim_b', 'sat_src_flag', 'conf_flag',\n",
    "               'significance', 'hard_hm_hilim', 'ra', 'hard_ms',\n",
    "               'err_ellipse_r0', 'dec', 'name', 'var_inter_index_b',\n",
    "               'hard_ms_hilim', 'flux_aper_b', 'var_inter_index_w',\n",
    "               'flux_aper_w']\n",
    "        if include_data is not None:\n",
    "            writer.writerow(include_headers + row)\n",
    "        else:\n",
    "            writer.writerow(row)\n",
    "\n",
    "        for i, ival in enumerate(RAs):\n",
    "            sources = vo.conesearch(url, pos=(RAs[i], DECs[i]), radius=radius)\n",
    "            for j, jval in enumerate(sources):\n",
    "                row = [jval['hard_hm_lolim'], jval['var_intra_index_w'], jval['hard_ms_lolim'],\n",
    "                       jval['hard_hm'], jval['var_intra_index_b'], jval['extent_flag'],\n",
    "                       jval['flux_aper_hilim_b'], jval['flux_aper_lolim_w'], jval['flux_aper_hilim_w'],\n",
    "                       jval['flux_aper_lolim_b'], jval['sat_src_flag'], jval['conf_flag'],\n",
    "                       jval['significance'], jval['hard_hm_hilim'], jval['ra'], jval['hard_ms'],\n",
    "                       jval['err_ellipse_r0'], jval['dec'], jval['name'], jval['var_inter_index_b'],\n",
    "                       jval['hard_ms_hilim'], jval['flux_aper_b'], jval['var_inter_index_w'],\n",
    "                       jval['flux_aper_w']]\n",
    "                if include_data is not None:\n",
    "                    writer.writerow([include_data[k][i] for k in range(len(include_data))] + row)\n",
    "                else:\n",
    "                    writer.writerow(row)"
   ]
  },
  {
   "cell_type": "code",
   "execution_count": null,
   "metadata": {},
   "outputs": [],
   "source": [
    "print [Norris['type'], Norris['Mstar']][0][0]"
   ]
  },
  {
   "cell_type": "code",
   "execution_count": null,
   "metadata": {},
   "outputs": [],
   "source": [
    "ChandraExtractor(Norris['RA'],Norris['Dec'],radius=.0005,\n",
    "                 include_data=[Norris['type'], Norris['Mstar']],\n",
    "                 include_headers=['type', 'Mstar'])"
   ]
  },
  {
   "cell_type": "code",
   "execution_count": 4,
   "metadata": {},
   "outputs": [
    {
     "name": "stderr",
     "output_type": "stream",
     "text": [
      "WARNING: W03: None:8:0: W03: Implicitly generating an ID from a name 'RA:184.84619223,DEC:5.79484358,SR:0.0005,VERB:2,TIME:2018/01/04_16:44:20' -> 'RA_184.84619223_DEC_5.79484358_SR_0.0005_VERB_2_TIME_2018_01_04_16_44_20' [astropy.io.votable.xmlutil]\n",
      "WARNING: W06: None:43:0: W06: Invalid UCD 'ID_MAIN': Unknown word 'ID_MAIN' [astropy.io.votable.tree]\n",
      "WARNING: W06: None:46:0: W06: Invalid UCD 'POS_EQ_RA_MAIN': Unknown word 'POS_EQ_RA_MAIN' [astropy.io.votable.tree]\n",
      "WARNING: W06: None:49:0: W06: Invalid UCD 'POS_EQ_DEC_MAIN': Unknown word 'POS_EQ_DEC_MAIN' [astropy.io.votable.tree]\n",
      "WARNING: W06: None:52:0: W06: Invalid UCD 'phys.angSize.smaj;pos.errorEllipse': Unknown word 'phys.angSize.smaj' [astropy.io.votable.tree]\n",
      "WARNING: W50: None:64:0: W50: Invalid unit string 'erg/s/cm^2' [astropy.io.votable.tree]\n",
      "WARNING: W50: None:67:0: W50: Invalid unit string 'erg/s/cm^2' [astropy.io.votable.tree]\n",
      "WARNING: W50: None:70:0: W50: Invalid unit string 'erg/s/cm^2' [astropy.io.votable.tree]\n",
      "WARNING: W50: None:73:0: W50: Invalid unit string 'erg/s/cm^2' [astropy.io.votable.tree]\n",
      "WARNING: W50: None:76:0: W50: Invalid unit string 'erg/s/cm^2' [astropy.io.votable.tree]\n",
      "WARNING: W50: None:79:0: W50: Invalid unit string 'erg/s/cm^2' [astropy.io.votable.tree]\n",
      "WARNING: W06: None:85:0: W06: Invalid UCD 'phot.color;em.X-ray': Unknown word 'phot.color' [astropy.io.votable.tree]\n",
      "WARNING: W06: None:88:0: W06: Invalid UCD 'stat.error;phot.color;stat.min;em.X-ray': Unknown word 'phot.color' [astropy.io.votable.tree]\n",
      "WARNING: W06: None:91:0: W06: Invalid UCD 'stat.error;phot.color;stat.max;em.X-ray': Unknown word 'phot.color' [astropy.io.votable.tree]\n",
      "WARNING: W06: None:94:0: W06: Invalid UCD 'phot.color;em.X-ray': Unknown word 'phot.color' [astropy.io.votable.tree]\n",
      "WARNING: W06: None:97:0: W06: Invalid UCD 'stat.error;phot.color;stat.min;em.X-ray': Unknown word 'phot.color' [astropy.io.votable.tree]\n",
      "WARNING: W06: None:100:0: W06: Invalid UCD 'stat.error;phot.color;stat.max;em.X-ray': Unknown word 'phot.color' (suppressing further warnings of this type...) [astropy.io.votable.tree]\n"
     ]
    }
   ],
   "source": [
    "ChandraExtractor([184.84619223],[5.79484358],radius=.0005)"
   ]
  }
 ],
 "metadata": {
  "kernelspec": {
   "display_name": "Python 2",
   "language": "python",
   "name": "python2"
  }
 },
 "nbformat": 4,
 "nbformat_minor": 2
}
