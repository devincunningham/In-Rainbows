{
 "cells": [
  {
   "cell_type": "code",
   "execution_count": 1,
   "metadata": {
    "collapsed": true
   },
   "outputs": [],
   "source": [
    "import numpy as np\n",
    "import matplotlib.pyplot as plt\n",
    "import matplotlib.gridspec as gridspec\n",
    "from matplotlib.patches import Rectangle\n",
    "% matplotlib inline"
   ]
  },
  {
   "cell_type": "code",
   "execution_count": 2,
   "metadata": {
    "collapsed": true
   },
   "outputs": [],
   "source": [
    "mass = 1.4e-3 #kg\n",
    "rod_l = 9.381e-2 #m\n",
    "handle_d = 1.261e-2 #m\n",
    "cue_r = .5*5.379e-2 #m"
   ]
  },
  {
   "cell_type": "markdown",
   "metadata": {},
   "source": [
    "# Measuring Magnetic Moment"
   ]
  },
  {
   "cell_type": "markdown",
   "metadata": {},
   "source": [
    "### Harmonic Oscillation of a Spherical Pendulum"
   ]
  },
  {
   "cell_type": "code",
   "execution_count": 3,
   "metadata": {
    "scrolled": false
   },
   "outputs": [
    {
     "ename": "NameError",
     "evalue": "name 'wspace' is not defined",
     "output_type": "error",
     "traceback": [
      "\u001b[1;31m---------------------------------------------------------------------------\u001b[0m",
      "\u001b[1;31mNameError\u001b[0m                                 Traceback (most recent call last)",
      "\u001b[1;32m<ipython-input-3-9e91580e6796>\u001b[0m in \u001b[0;36m<module>\u001b[1;34m()\u001b[0m\n\u001b[0;32m     24\u001b[0m \u001b[0mheight_ratios\u001b[0m \u001b[1;33m=\u001b[0m \u001b[1;33m[\u001b[0m\u001b[1;36m.25\u001b[0m\u001b[1;33m,\u001b[0m\u001b[1;36m6\u001b[0m\u001b[1;33m]\u001b[0m\u001b[1;33m\u001b[0m\u001b[0m\n\u001b[0;32m     25\u001b[0m \u001b[0mwidth_ratios\u001b[0m \u001b[1;33m=\u001b[0m \u001b[1;33m[\u001b[0m\u001b[1;36m6\u001b[0m\u001b[1;33m,\u001b[0m\u001b[1;36m.25\u001b[0m\u001b[1;33m,\u001b[0m\u001b[1;36m6\u001b[0m\u001b[1;33m]\u001b[0m\u001b[1;33m\u001b[0m\u001b[0m\n\u001b[1;32m---> 26\u001b[1;33m fig = plt.figure(figsize=(sum(width_ratios) + wspace * (len(width_ratios) - 1),\n\u001b[0m\u001b[0;32m     27\u001b[0m                           sum(height_ratios) + hspace * (len(height_ratios) - 1)))\n\u001b[0;32m     28\u001b[0m \u001b[0mgs\u001b[0m \u001b[1;33m=\u001b[0m \u001b[0mgridspec\u001b[0m\u001b[1;33m.\u001b[0m\u001b[0mGridSpec\u001b[0m\u001b[1;33m(\u001b[0m\u001b[0mlen\u001b[0m\u001b[1;33m(\u001b[0m\u001b[0mheight_ratios\u001b[0m\u001b[1;33m)\u001b[0m\u001b[1;33m,\u001b[0m \u001b[0mlen\u001b[0m\u001b[1;33m(\u001b[0m\u001b[0mwidth_ratios\u001b[0m\u001b[1;33m)\u001b[0m\u001b[1;33m,\u001b[0m \u001b[0mheight_ratios\u001b[0m\u001b[1;33m=\u001b[0m\u001b[0mheight_ratios\u001b[0m\u001b[1;33m,\u001b[0m \u001b[0mwidth_ratios\u001b[0m\u001b[1;33m=\u001b[0m\u001b[0mwidth_ratios\u001b[0m\u001b[1;33m)\u001b[0m\u001b[1;33m\u001b[0m\u001b[0m\n",
      "\u001b[1;31mNameError\u001b[0m: name 'wspace' is not defined"
     ]
    }
   ],
   "source": [
    "r = np.array([4.961,5.831,8.901, 7.381]) * 1e-2\n",
    "amp = [1.69,1.88,2.56, 2.23]\n",
    "amp2 = 1./np.array([.7,1.0,1.2,1.5,2.0,2.1,2.5,2.8,3.0,3.5,3.9,4.0])\n",
    "sec = np.array([2.061,1.73,1.595,1.404,1.161,1.19,1.065,1.013,.958,.906,.865,.8485])**2\n",
    "B = 1.36e-3\n",
    "tesla = [1.69*B,1.88*B,2.56*B, 2.23*B]\n",
    "tesla2 = amp2*((4.*np.pi**2*4.313e-5)/B)\n",
    "amp_fit = np.polyfit(r,amp,1)\n",
    "amp_fit = np.poly1d(amp_fit)\n",
    "amp_fit_range = np.linspace(0, 10, 100)\n",
    "amp2_fit = np.polyfit(amp2,sec,1)\n",
    "amp2_fit = np.poly1d(amp2_fit)\n",
    "amp2_fit_range = np.linspace(0, 10, 100)\n",
    "tesla_fit = np.polyfit(r,tesla,1)\n",
    "tesla_fit = np.poly1d(tesla_fit)\n",
    "tesla_fit_range = np.linspace(0, 10, 100)\n",
    "tesla2_fit = np.polyfit(tesla2,sec,1)\n",
    "tesla2_fit = np.poly1d(tesla2_fit)\n",
    "tesla2_fit_range = np.linspace(0, 10, 100)\n",
    "\n",
    "tesla_err = [amp[i]*B*(.01 / amp[i] + .03e-3 / B) for i, val in enumerate(amp)]\n",
    "tesla2_err = [amp2[i]*B*(.01 / amp2[i] + .03e-3 / B) for i, val in enumerate(amp2)]\n",
    "\n",
    "height_ratios = [.25,6]\n",
    "width_ratios = [6,.25,6]\n",
    "fig = plt.figure(figsize=(sum(width_ratios) + wspace * (len(width_ratios) - 1),\n",
    "                          sum(height_ratios) + hspace * (len(height_ratios) - 1)))\n",
    "gs = gridspec.GridSpec(len(height_ratios), len(width_ratios), height_ratios=height_ratios, width_ratios=width_ratios)\n",
    "fig.suptitle('Measuring Magnetic Moment', fontsize=20)\n",
    "\n",
    "\n",
    "ax = fig.add_subplot(gs[1, 0])\n",
    "ax.scatter(r,tesla, marker='o', s=24, c = 'skyblue', label='Data Points')\n",
    "ax.plot(tesla_fit_range, tesla_fit(tesla_fit_range), '--', c = 'green', label='Best Fit')\n",
    "ax.errorbar(r, tesla, xerr=0.01 * 1e-2, yerr=tesla_err, fmt='.', c='indianred', label='Error', zorder=0)\n",
    "ax.update({'title': 'Magnetic Field vs Lever Arm {}'.format(tesla_fit),\n",
    "            'xlabel': 'Lever Arm [m]',\n",
    "            'ylabel': 'Magnetic Field [T]',\n",
    "            'xlim': (min(r) - min(r)*.05, max(r) + max(r)*.05),\n",
    "            'ylim': (min(tesla) - min(tesla)*.05, max(tesla) + max(tesla)*.05)})\n",
    "ax.minorticks_on()\n",
    "ax.tick_params('both', length=8, which='major')\n",
    "ax.tick_params('both',length=3, which='minor')\n",
    "ax.grid(True, which='major', ls='dashed', alpha=.5)\n",
    "ax.grid(True, which='minor', ls='dashed', alpha=.15)\n",
    "ax.legend(loc='best')\n",
    "\n",
    "ax = fig.add_subplot(gs[1, 2])\n",
    "ax.scatter(tesla2, sec, marker='o', s=24, c = 'skyblue', label='Data Points')\n",
    "ax.plot(tesla2_fit_range, tesla2_fit(tesla2_fit_range), '--', c = 'green', label='Best Fit')\n",
    "ax.errorbar(tesla2, sec, xerr=tesla2_err, yerr=.02**2, fmt=',', c='indianred', label='Error', zorder=0)\n",
    "ax.update({'title': 'Time$^{2}$ vs Magnetic Field$^{-1}$' + '{}'.format(tesla2_fit),\n",
    "            'xlabel': 'Magnetic Field$^{-1}$ [T$^{-1}$]',\n",
    "            'ylabel': 'Time$^{2}$ [s$^{2}$]',\n",
    "            'xlim': (min(tesla2) - min(tesla2)*.05, max(tesla2) + max(tesla2)*.05),\n",
    "            'ylim': (min(sec)*.95, max(sec)*1.05)})\n",
    "ax.minorticks_on()\n",
    "ax.tick_params('both', length=8, which='major')\n",
    "ax.tick_params('both',length=3, which='minor')\n",
    "ax.grid(True, which='major', ls='dashed', alpha=.5)\n",
    "ax.grid(True, which='minor', ls='dashed', alpha=.15)\n",
    "ax.legend(loc='best')\n",
    "\n",
    "plt.show()"
   ]
  },
  {
   "cell_type": "code",
   "execution_count": null,
   "metadata": {},
   "outputs": [],
   "source": [
    "tesla_fit[1] * mass * 9.81"
   ]
  },
  {
   "cell_type": "code",
   "execution_count": null,
   "metadata": {},
   "outputs": [],
   "source": [
    "moment = 4.313e-5\n",
    "4.*np.pi**2*moment/tesla2_fit[1]"
   ]
  },
  {
   "cell_type": "markdown",
   "metadata": {},
   "source": [
    "# Hall Effect"
   ]
  },
  {
   "cell_type": "markdown",
   "metadata": {},
   "source": [
    "Power Supply: 4.5 Volts, 2.05 Amperes\n",
    "\n",
    "Multimeter: 1.16 +- .02 Volts, 1.92 +- .01 Amperes"
   ]
  },
  {
   "cell_type": "code",
   "execution_count": null,
   "metadata": {},
   "outputs": [],
   "source": [
    "coil_rad = (46.68-4.07) / 2. * 1e-3\n",
    "B_field = 15.*1.92*.9e-6 / (coil_rad)\n",
    "print B_field\n",
    "voltage = 1.16 / 10\n",
    "voltage_err = .02 / 10\n",
    "proportionality = B_field / voltage\n",
    "print proportionality"
   ]
  },
  {
   "cell_type": "code",
   "execution_count": null,
   "metadata": {},
   "outputs": [],
   "source": [
    "distance = np.array([0,3.1,8.2,14.2,18.2,11.0,12.7,16.5,6.0]) + 4.951\n",
    "distance = 1./(distance**3)\n",
    "voltage = np.array([869.0, 206.0, 44.0, 14.0, 7.5, 24.0, 18.0, 9.0, 79.0]) * 1e-3\n",
    "voltage_err = np.array([.002, .002, .002, .002, .0009, .001, .002, .001, .001]) * 1e-3\n",
    "tesla = voltage * proportionality\n",
    "tesla_err = voltage_err * proportionality\n",
    "\n",
    "voltage_fit = np.polyfit(distance,voltage,1)\n",
    "voltage_fit = np.poly1d(voltage_fit)\n",
    "voltage_fit_range = np.linspace(min(distance) - min(distance)*.15, max(distance) + max(distance)*.15, 100)\n",
    "tesla_fit = np.polyfit(distance,tesla,1)\n",
    "tesla_fit = np.poly1d(tesla_fit)\n",
    "tesla_fit_range = np.linspace(min(distance) - min(distance)*.15, max(distance) + max(distance)*.15, 100)\n",
    "\n",
    "\n",
    "height_ratios = [.15,6]\n",
    "width_ratios = [6,.15,6]\n",
    "wspace = 0.25\n",
    "hspace = 0.25\n",
    "fig = plt.figure(figsize=(sum(width_ratios) + wspace * (len(width_ratios) - 1),\n",
    "                          sum(height_ratios) + hspace * (len(height_ratios) - 1)))\n",
    "gs = gridspec.GridSpec(len(height_ratios), len(width_ratios), height_ratios=height_ratios, width_ratios=width_ratios)\n",
    "\n",
    "fig.suptitle('Hall Effect', fontsize=20)\n",
    "\n",
    "\n",
    "ax = fig.add_subplot(gs[1, 0])\n",
    "\n",
    "ax.scatter(distance, voltage, marker='o', s=60, c = 'skyblue', label='Data Points')\n",
    "ax.plot(voltage_fit_range, voltage_fit(voltage_fit_range), '--', c = 'green', label='Best Fit')\n",
    "ax.errorbar(distance, voltage, yerr=voltage_err, fmt=',', c='indianred', label='Error', zorder=0)\n",
    "ax.update({'title': 'Voltage vs Distance {}'.format(voltage_fit),\n",
    "            'xlabel': 'Voltage [V]',\n",
    "            'ylabel': 'Kevin Death-stare Flux [Erg s^-1]'})\n",
    "ax.set_xlim(min(distance) - min(distance)*.25, max(distance) + max(distance)*.25)\n",
    "ax.set_ylim(min(voltage) - min(voltage)*.25, max(voltage) + max(voltage)*.25)\n",
    "ax.set_xscale('log')\n",
    "ax.set_yscale('log')\n",
    "\n",
    "ax.legend(loc=4)\n",
    "\n",
    "ax.minorticks_on()\n",
    "ax.tick_params('both', length=8, which='major')\n",
    "ax.tick_params('both',length=3, which='minor')\n",
    "ax.grid(True, which='major', ls='dashed', alpha=.5)\n",
    "ax.grid(True, which='minor', ls='dashed', alpha=.15)\n",
    "\n",
    "ax = fig.add_subplot(gs[1, 2])\n",
    "ax.scatter(distance,tesla, marker='o', s=24, c = 'blue', label='Data Points')\n",
    "ax.plot(tesla_fit_range, tesla_fit(tesla_fit_range), '--', c = 'green', label='Best Fit')\n",
    "ax.errorbar(distance, tesla, xerr=0.01*proportionality, yerr=tesla_err, fmt='.', c='red', label='Error')\n",
    "ax.update({'title': 'tesla vs r {}'.format(tesla_fit),\n",
    "            'xlabel': 'r [m]',\n",
    "            'ylabel': 'B [T]'})\n",
    "\n",
    "ax.minorticks_on()\n",
    "ax.tick_params('both', length=8, which='major')\n",
    "ax.tick_params('both',length=3, which='minor')\n",
    "ax.grid(True, which='major', ls='dashed', alpha=.5)\n",
    "ax.grid(True, which='minor', ls='dashed', alpha=.15)\n",
    "ax.legend(loc='best')"
   ]
  },
  {
   "cell_type": "code",
   "execution_count": null,
   "metadata": {},
   "outputs": [],
   "source": [
    "mu_0 = np.pi*4e-7\n",
    "\n",
    "\n",
    "np.pi*2*tesla_fit[1]/mu_0"
   ]
  },
  {
   "cell_type": "markdown",
   "metadata": {},
   "source": []
  },
  {
   "cell_type": "code",
   "execution_count": null,
   "metadata": {},
   "outputs": [],
   "source": [
    "h = 6.626e-34\n",
    "g = 2.00232\n",
    "mu_s = 9.274e-24\n",
    "\n",
    "freq = np.array([21.09, 21.44, 22.29, 22.72, 23.65, 24.64, 25.51, 26.17, 26.33, 27.11, 28.33, 29.21, 29.34])*1e6\n",
    "voltage  = np.array([14.5, 15.0, 15.5, 16.0, 16.0, 17.0, 17.5, 18.0, 18.0, 19.0, 19.5, 20.5, 20.0]) / 2. / 5.\n",
    "B  = (np.array([14.5, 15.0, 15.5, 16.0, 16.0, 17.0, 17.5, 18.0, 18.0, 19.0, 19.5, 20.5, 20.0]) / 2.)*(.48e-3) / 5.\n",
    "freq_err = .01*1e6\n",
    "voltage_err  = .5 / 2. / 5.\n",
    "B_err = voltage_err * .48e-3 / 5.\n",
    "\n",
    "voltage_fit = np.polyfit(freq,voltage,1)\n",
    "voltage_fit = np.poly1d(voltage_fit)\n",
    "voltage_fit_range = np.linspace(min(freq), max(freq), 100)\n",
    "B_fit = np.polyfit(freq,B,1)\n",
    "B_fit = np.poly1d(B_fit)\n",
    "B_fit_range = np.linspace(min(freq), max(freq), 100)\n",
    "\n",
    "height_ratios = [.15, 6]\n",
    "width_ratios = [6, .15, 6]\n",
    "wspace = 0.25\n",
    "hspace = 0.25\n",
    "fig = plt.figure(figsize=(sum(width_ratios) + wspace * (len(width_ratios) - 1),\n",
    "                          sum(height_ratios) + hspace * (len(height_ratios) - 1)))\n",
    "gs = gridspec.GridSpec(len(height_ratios), len(width_ratios), height_ratios=height_ratios, width_ratios=width_ratios)\n",
    "\n",
    "fig.suptitle('Electron Spin Resonance', fontsize=20)\n",
    "\n",
    "ax = fig.add_subplot(gs[1, 0])\n",
    "ax.scatter(freq, voltage, marker='.', s=120, c = 'skyblue', label='Data Points')\n",
    "ax.plot(voltage_fit_range, voltage_fit(voltage_fit_range), '--', c = 'green', label='Best Fit')\n",
    "ax.errorbar(freq, voltage, xerr=freq_err, yerr=voltage_err, fmt=',', c='indianred', label='Error', zorder=0)\n",
    "ax.update({'title': 'Voltage vs. Frequency {}'.format(voltage_fit),\n",
    "           'xlabel': 'Frequency [Hz]',\n",
    "           'ylabel': 'Voltage [V]',\n",
    "           'xlim': (min(freq) - min(freq)*.05, max(freq) + max(freq)*.05),\n",
    "           'ylim': (min(voltage) - min(voltage)*.05, max(voltage) + max(voltage)*.05)})\n",
    "\n",
    "ax.minorticks_on()\n",
    "ax.tick_params('both', length=8, which='major')\n",
    "ax.tick_params('both',length=3, which='minor')\n",
    "ax.grid(True, which='major', ls='dashed', alpha=.5)\n",
    "ax.grid(True, which='minor', ls='dashed', alpha=.15)\n",
    "ax.legend(loc='best')\n",
    "\n",
    "ax = fig.add_subplot(gs[1, 2])\n",
    "ax.scatter(freq, B, marker='.', s=120, c = 'skyblue', label='Data Points')\n",
    "ax.plot(B_fit_range, B_fit(B_fit_range), '--', c = 'green', label='Best Fit')\n",
    "ax.errorbar(freq, B, xerr=freq_err, yerr=B_err, fmt=',', c='indianred', label='Error', zorder=0)\n",
    "ax.update({'title': 'Magnetic Field vs. Frequency {}'.format(B_fit),\n",
    "           'xlabel': 'Frequency [Hz]',\n",
    "           'ylabel': 'Magnetic Field [T]',\n",
    "           'xlim': (min(freq) - min(freq)*.05, max(freq) + max(freq)*.05),\n",
    "           'ylim': (min(B) - min(B)*.05, max(B) + max(B)*.05)})\n",
    "\n",
    "ax.minorticks_on()\n",
    "ax.tick_params('both', length=8, which='major')\n",
    "ax.tick_params('both',length=3, which='minor')\n",
    "ax.grid(True, which='major', ls='dashed', alpha=.5)\n",
    "ax.grid(True, which='minor', ls='dashed', alpha=.15)\n",
    "ax.legend(loc='best')\n",
    "\n",
    "mu_s_calculated = h/(g*B_fit[1])\n",
    "g_calculated = h/(mu_s*B_fit[1])\n",
    "mu_s_error = abs(mu_s - mu_s_calculated) / mu_s\n",
    "g_error = abs(g - g_calculated) / g\n",
    "\n",
    "shit_finder = (np.average(B)/np.average(freq))*(np.average(B_err / B) + np.average(freq_err / freq))\n",
    "\n",
    "print  \"shit_finder\", h/(shit_finder*g)\n",
    "\n",
    "print \"mu_s:\", mu_s_calculated, \"\\ng:\", g_calculated\n",
    "print \"mu_s error:\", mu_s_error, \"\\ng error:\", g_error"
   ]
  },
  {
   "cell_type": "code",
   "execution_count": null,
   "metadata": {
    "collapsed": true
   },
   "outputs": [],
   "source": []
  }
 ],
 "metadata": {
  "kernelspec": {
   "display_name": "Python 2",
   "language": "python",
   "name": "python2"
  },
  "language_info": {
   "codemirror_mode": {
    "name": "ipython",
    "version": 2
   },
   "file_extension": ".py",
   "mimetype": "text/x-python",
   "name": "python",
   "nbconvert_exporter": "python",
   "pygments_lexer": "ipython2",
   "version": "2.7.13"
  }
 },
 "nbformat": 4,
 "nbformat_minor": 1
}
