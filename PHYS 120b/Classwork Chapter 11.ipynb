{
 "cells": [
  {
   "cell_type": "markdown",
   "metadata": {},
   "source": [
    "### 11.3"
   ]
  },
  {
   "cell_type": "code",
   "execution_count": 5,
   "metadata": {
    "scrolled": true
   },
   "outputs": [
    {
     "name": "stdout",
     "output_type": "stream",
     "text": [
      "Mu: 1.5\n",
      "0: 0.223130160148\n",
      "1: 0.334695240223\n",
      "2: 0.251021430167\n",
      "3: 0.125510715083\n",
      "4: 0.0656424543785\n"
     ]
    }
   ],
   "source": [
    "import numpy as np\n",
    "import matplotlib.pyplot as plt\n",
    "import math\n",
    "\n",
    "n_3 = 5.0e19\n",
    "p_3 = 3.0e-20\n",
    "interval_3 = 5\n",
    "\n",
    "mu_3 = p_3 * n_3\n",
    "print \"Mu:\", mu_3\n",
    "\n",
    "v_3 = np.array([0,1,2,3])\n",
    "v_calc = [np.e**(-mu_3)*(mu_3**v/math.factorial(v)) for v in v_3]\n",
    "for i, val in enumerate(v_3):\n",
    "    print \"{}:\".format(val), v_calc[i]\n",
    "print \"4:\", 1. - sum(v_calc)"
   ]
  },
  {
   "cell_type": "markdown",
   "metadata": {},
   "source": [
    "### 11.8"
   ]
  },
  {
   "cell_type": "code",
   "execution_count": 11,
   "metadata": {},
   "outputs": [
    {
     "name": "stdout",
     "output_type": "stream",
     "text": [
      "Mu_best: 9.66666666667\n",
      "Standard Deviation: 3.47690794944 \n",
      "Square root mu_best: 3.10912635103\n",
      "Fractional discrepency: 1.11829097852\n"
     ]
    }
   ],
   "source": [
    "dsnt_8 = np.array([7,11,10,7,5,7,6,12,12,7,18,12,13,12,6])\n",
    "dsnt_8_avg = np.average(dsnt_8)\n",
    "print \"Mu_best:\", dsnt_8_avg\n",
    "\n",
    "def stddev(data):\n",
    "    mean = np.mean(data)\n",
    "    numerator = sum([(val - mean)**2 for i, val in enumerate(data)])\n",
    "    return np.sqrt(numerator/(len(data)))\n",
    "dsnt_8_std = stddev(dsnt_8)\n",
    "print \"Standard Deviation:\", dsnt_8_std, \"\\nSquare root mu_best:\", np.sqrt(dsnt_8_avg)\n",
    "print \"Fractional discrepency:\", dsnt_8_std / np.sqrt(dsnt_8_avg)"
   ]
  },
  {
   "cell_type": "markdown",
   "metadata": {},
   "source": [
    "### 11.10"
   ]
  },
  {
   "cell_type": "code",
   "execution_count": 47,
   "metadata": {
    "collapsed": true
   },
   "outputs": [],
   "source": [
    "rate_10 = 20\n",
    "\n",
    "\n",
    "v_calc = [np.e**(-mu_3)*(mu_3**v/math.factorial(v)) for v in v_3]"
   ]
  },
  {
   "cell_type": "code",
   "execution_count": 53,
   "metadata": {},
   "outputs": [
    {
     "data": {
      "text/plain": [
       "0.8"
      ]
     },
     "execution_count": 53,
     "metadata": {},
     "output_type": "execute_result"
    }
   ],
   "source": [
    ".04 * 20"
   ]
  },
  {
   "cell_type": "code",
   "execution_count": 57,
   "metadata": {},
   "outputs": [
    {
     "name": "stdout",
     "output_type": "stream",
     "text": [
      "20\n",
      "25.0\n"
     ]
    }
   ],
   "source": [
    "v_10 = 20\n",
    "print v_10\n",
    "T = v_10 / .8\n",
    "print T"
   ]
  },
  {
   "cell_type": "markdown",
   "metadata": {},
   "source": [
    "### 11.19"
   ]
  },
  {
   "cell_type": "code",
   "execution_count": null,
   "metadata": {
    "collapsed": true
   },
   "outputs": [],
   "source": []
  },
  {
   "cell_type": "markdown",
   "metadata": {},
   "source": [
    "# Homework"
   ]
  },
  {
   "cell_type": "markdown",
   "metadata": {},
   "source": [
    "### 11.5"
   ]
  },
  {
   "cell_type": "code",
   "execution_count": 54,
   "metadata": {},
   "outputs": [
    {
     "name": "stdout",
     "output_type": "stream",
     "text": [
      "[8]\n"
     ]
    },
    {
     "ename": "TypeError",
     "evalue": "'numpy.int32' object is not iterable",
     "output_type": "error",
     "traceback": [
      "\u001b[1;31m---------------------------------------------------------------------------\u001b[0m",
      "\u001b[1;31mTypeError\u001b[0m                                 Traceback (most recent call last)",
      "\u001b[1;32m<ipython-input-54-dc90a1783863>\u001b[0m in \u001b[0;36m<module>\u001b[1;34m()\u001b[0m\n\u001b[0;32m      3\u001b[0m \u001b[0mdata_5\u001b[0m \u001b[1;33m=\u001b[0m \u001b[1;33m[\u001b[0m\u001b[1;33m[\u001b[0m\u001b[0mdecays_5\u001b[0m\u001b[1;33m[\u001b[0m\u001b[0mi\u001b[0m\u001b[1;33m]\u001b[0m\u001b[1;33m]\u001b[0m\u001b[1;33m*\u001b[0m\u001b[0mtimes_5\u001b[0m\u001b[1;33m[\u001b[0m\u001b[0mi\u001b[0m\u001b[1;33m]\u001b[0m \u001b[1;32mfor\u001b[0m \u001b[0mi\u001b[0m \u001b[1;32min\u001b[0m \u001b[0mrange\u001b[0m\u001b[1;33m(\u001b[0m\u001b[0mlen\u001b[0m\u001b[1;33m(\u001b[0m\u001b[0mdecays_5\u001b[0m\u001b[1;33m)\u001b[0m\u001b[1;33m)\u001b[0m\u001b[1;33m]\u001b[0m\u001b[1;33m\u001b[0m\u001b[0m\n\u001b[0;32m      4\u001b[0m \u001b[1;32mprint\u001b[0m \u001b[0mdata_5\u001b[0m\u001b[1;33m[\u001b[0m\u001b[1;36m8\u001b[0m\u001b[1;33m]\u001b[0m\u001b[1;33m\u001b[0m\u001b[0m\n\u001b[1;32m----> 5\u001b[1;33m \u001b[0mdata_5\u001b[0m \u001b[1;33m=\u001b[0m \u001b[1;33m[\u001b[0m\u001b[0mval\u001b[0m \u001b[1;32mfor\u001b[0m \u001b[0mi\u001b[0m \u001b[1;32min\u001b[0m \u001b[0mrange\u001b[0m\u001b[1;33m(\u001b[0m\u001b[0mlen\u001b[0m\u001b[1;33m(\u001b[0m\u001b[0mdecays_5\u001b[0m\u001b[1;33m)\u001b[0m\u001b[1;33m)\u001b[0m \u001b[1;32mfor\u001b[0m \u001b[0mj\u001b[0m\u001b[1;33m,\u001b[0m \u001b[0mval\u001b[0m \u001b[1;32min\u001b[0m \u001b[0menumerate\u001b[0m\u001b[1;33m(\u001b[0m\u001b[0mdecays_5\u001b[0m\u001b[1;33m[\u001b[0m\u001b[0mi\u001b[0m\u001b[1;33m]\u001b[0m\u001b[1;33m)\u001b[0m\u001b[1;33m]\u001b[0m\u001b[1;33m\u001b[0m\u001b[0m\n\u001b[0m\u001b[0;32m      6\u001b[0m \u001b[1;32mprint\u001b[0m \u001b[0mdata_5\u001b[0m\u001b[1;33m\u001b[0m\u001b[0m\n\u001b[0;32m      7\u001b[0m \u001b[0mtimes_5_std\u001b[0m \u001b[1;33m=\u001b[0m \u001b[0mstddev\u001b[0m\u001b[1;33m(\u001b[0m\u001b[0mtimes_5\u001b[0m\u001b[1;33m)\u001b[0m\u001b[1;33m\u001b[0m\u001b[0m\n",
      "\u001b[1;31mTypeError\u001b[0m: 'numpy.int32' object is not iterable"
     ]
    }
   ],
   "source": [
    "decays_5 = np.arange(0,9,1)\n",
    "times_5 = np.array([5,19,23,21,14,12,3,2,1])\n",
    "data_5 = [[decays_5[i]]*times_5[i] for i in range(len(decays_5))]\n",
    "print data_5[8]\n",
    "data_5 = [val for i in range(len(decays_5)) for j, val in enumerate(decays_5[i])]\n",
    "print data_5\n",
    "times_5_std = stddev(times_5)\n",
    "print \"average:\", np.average(decays_5, weights=times_5)\n",
    "print \"Standard Deviation:\", times_5_std\n",
    "print np.sqrt(times_5_std)\n",
    "plt.scatter(decays_5, times_5)\n",
    "plt.show()"
   ]
  },
  {
   "cell_type": "code",
   "execution_count": null,
   "metadata": {
    "collapsed": true
   },
   "outputs": [],
   "source": []
  }
 ],
 "metadata": {
  "kernelspec": {
   "display_name": "Python 2",
   "language": "python",
   "name": "python2"
  },
  "language_info": {
   "codemirror_mode": {
    "name": "ipython",
    "version": 2
   },
   "file_extension": ".py",
   "mimetype": "text/x-python",
   "name": "python",
   "nbconvert_exporter": "python",
   "pygments_lexer": "ipython2",
   "version": "2.7.13"
  }
 },
 "nbformat": 4,
 "nbformat_minor": 2
}
