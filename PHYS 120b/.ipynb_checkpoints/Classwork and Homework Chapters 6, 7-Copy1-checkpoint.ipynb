{
 "cells": [
  {
   "cell_type": "markdown",
   "metadata": {},
   "source": [
    "# Classwork & Homework: Chapters 6, 7"
   ]
  },
  {
   "cell_type": "markdown",
   "metadata": {},
   "source": [
    "### 6.1"
   ]
  },
  {
   "cell_type": "code",
   "execution_count": 34,
   "metadata": {},
   "outputs": [
    {
     "name": "stdout",
     "output_type": "stream",
     "text": [
      "We observe a t_sus value of 2.5. Therefore the probability of getting this value was 98.76%.\n",
      "Because the Chauvenet value is 0.248, she should reject it.\n"
     ]
    }
   ],
   "source": [
    "N = 20\n",
    "V_avg = 51.0\n",
    "sigma_V = 2.0\n",
    "\n",
    "def t_sus(x_sus, x_avg, sigma_x):\n",
    "    t_sus = abs(x_sus - x_avg) / sigma_x\n",
    "    return t_sus\n",
    "\n",
    "def chauv(N, prob_outside):\n",
    "    return N * (1.0 - prob_outside)\n",
    "\n",
    "print 'We observe a t_sus value of {}. Therefore the probability of getting this value was 98.76%.'.format(t_sus(56, V_avg, sigma_V))\n",
    "print 'Because the Chauvenet value is {}, she should reject it.'.format(chauv(N, .9876))"
   ]
  },
  {
   "cell_type": "markdown",
   "metadata": {},
   "source": [
    "### 6.2"
   ]
  },
  {
   "cell_type": "code",
   "execution_count": 35,
   "metadata": {},
   "outputs": [
    {
     "name": "stdout",
     "output_type": "stream",
     "text": [
      "The mean and standarde deviation of the FH data are 0.48 and 0.04.\n",
      "The t_sus value is 2.40757288272. Therefore the probability of getting this value is 98.36\n",
      "The Chauvenet value is 0.164, she should reject it.\n"
     ]
    }
   ],
   "source": [
    "import numpy as np\n",
    "FH_data = np.array([0.48,0.45,.49,.46,.44,.57,.45,.47,.51,.50])\n",
    "FH_mean = np.mean(FH_data)\n",
    "FH_std = np.std(FH_data)\n",
    "print 'The mean and standarde deviation of the FH data are {:.2f} and {:.2f}.'.format(FH_mean, FH_std)\n",
    "print 'The t_sus value is {}. Therefore the probability of getting this value is 98.36'.format(t_sus(.57, FH_mean, FH_std))\n",
    "print 'The Chauvenet value is {}, she should reject it.'.format(chauv(len(FH_data), .9836))"
   ]
  },
  {
   "cell_type": "markdown",
   "metadata": {},
   "source": [
    "### 6.4"
   ]
  },
  {
   "cell_type": "code",
   "execution_count": 44,
   "metadata": {},
   "outputs": [
    {
     "name": "stdout",
     "output_type": "stream",
     "text": [
      "The mean and standarde deviation of the data are 10.07 and 2.94.\n",
      "We observe a t_sus value of 1.72555922435. Therefore the probability of getting this value was 91.46%.\n",
      "Because the Chauvenet value is 1.708, she should accept it.\n"
     ]
    }
   ],
   "source": [
    "cosmicray = np.array([11, 9, 13, 15, 8, 10, 5, 11, 9, 12, 12, 13, 9, 4])\n",
    "cosmicray_mean = np.mean(cosmicray)\n",
    "cosmicray_std = np.std(cosmicray)\n",
    "print 'The mean and standarde deviation of the data are {:.2f} and {:.2f}.'.format(cosmicray_mean, cosmicray_std)\n",
    "print 'We observe a t_sus value of {}. Therefore the probability of getting this value was 91.46%.'.format(t_sus(5, cosmicray_mean, cosmicray_std))\n",
    "print 'Because the Chauvenet value is {}, she should accept it.'.format(chauv(N, .9146))"
   ]
  },
  {
   "cell_type": "markdown",
   "metadata": {},
   "source": [
    "### 6.6"
   ]
  },
  {
   "cell_type": "code",
   "execution_count": null,
   "metadata": {
    "collapsed": true
   },
   "outputs": [],
   "source": [
    "sample = np.array([5, 10, 15, 20, 50, 100, 200, 1000])\n",
    "boundary = "
   ]
  },
  {
   "cell_type": "markdown",
   "metadata": {},
   "source": [
    "### 7.1"
   ]
  },
  {
   "cell_type": "code",
   "execution_count": 40,
   "metadata": {},
   "outputs": [
    {
     "name": "stdout",
     "output_type": "stream",
     "text": [
      "Weighted average is 10.4\n"
     ]
    }
   ],
   "source": [
    "W_A = 1.0 / .5**2\n",
    "W_B = 1.0 / 1**2\n",
    "W_avg = (10.0 * W_A + 12.0 * W_B) / (W_A + W_B)\n",
    "print 'Weighted average is {}'.format(W_avg)"
   ]
  },
  {
   "cell_type": "markdown",
   "metadata": {},
   "source": [
    "### 7.2"
   ]
  },
  {
   "cell_type": "code",
   "execution_count": 39,
   "metadata": {},
   "outputs": [
    {
     "name": "stdout",
     "output_type": "stream",
     "text": [
      "The uncertainty in the final answer is 0.4\n"
     ]
    }
   ],
   "source": [
    "print 'The uncertainty in the final answer is {:.1f}'.format(1. / np.sqrt(W_A + W_B))"
   ]
  },
  {
   "cell_type": "markdown",
   "metadata": {},
   "source": [
    "### 7.4"
   ]
  },
  {
   "cell_type": "code",
   "execution_count": 55,
   "metadata": {},
   "outputs": [
    {
     "name": "stdout",
     "output_type": "stream",
     "text": [
      "The weighted average is 499.847826087.\n",
      "The uncertainty is 5.8976782462.\n",
      "The weighted average is 512.052631579.\n",
      "The weight of the last data point is so low that it is nearly negligible.\n"
     ]
    }
   ],
   "source": [
    "data74 = np.array([503, 491, 525, 570])\n",
    "err74 = np.array([10, 8, 20, 40])\n",
    "weights74 = 1. / err74**2\n",
    "\n",
    "print \"The weighted average is {}.\".format(np.average(data74, weights=weights74))\n",
    "print \"The uncertainty is {}.\".format(1. / np.sqrt(np.sum(weights74)))\n",
    "print \"The weighted average is {}.\".format(np.average(data74[:-1], weights=err74[:-1]))\n",
    "print \"The weight of the last data point is so low that it is nearly negligible.\""
   ]
  },
  {
   "cell_type": "markdown",
   "metadata": {},
   "source": [
    "### 7.6"
   ]
  },
  {
   "cell_type": "code",
   "execution_count": 62,
   "metadata": {},
   "outputs": [
    {
     "name": "stdout",
     "output_type": "stream",
     "text": [
      "Uncertainty A: 20.2977831302 Uncertainty B: 24.0\n",
      "A: 103.0 counts per hour with an uncertainty of 5.45435605732.\n",
      "B: 96.0 counts per hour with an uncertainty of 4.0.\n",
      "Proper weighted average: 98.4506318035\n",
      "Proper weighted uncertainty: 3.22467918989\n"
     ]
    }
   ],
   "source": [
    "print \"Uncertainty A: {} Uncertainty B: {}\".format(np.sqrt(412), np.sqrt(576))\n",
    "print \"A: {} counts per hour with an uncertainty of {}.\".format(412./4., np.sqrt(476)/4)\n",
    "print \"B: {} counts per hour with an uncertainty of {}.\".format(576./6., np.sqrt(576)/6)\n",
    "print \"Proper weighted average: {}\".format(np.average([412./4., 576./6.], weights=1./np.array([5.45,4.0])**2))\n",
    "print \"Proper weighted uncertainty: {}\".format(1. / np.sqrt(np.sum(1./np.array([5.45,4.0])**2)))"
   ]
  },
  {
   "cell_type": "code",
   "execution_count": null,
   "metadata": {
    "collapsed": true
   },
   "outputs": [],
   "source": []
  }
 ],
 "metadata": {
  "kernelspec": {
   "display_name": "Python 2",
   "language": "python",
   "name": "python2"
  },
  "language_info": {
   "codemirror_mode": {
    "name": "ipython",
    "version": 2
   },
   "file_extension": ".py",
   "mimetype": "text/x-python",
   "name": "python",
   "nbconvert_exporter": "python",
   "pygments_lexer": "ipython2",
   "version": "2.7.13"
  }
 },
 "nbformat": 4,
 "nbformat_minor": 2
}
