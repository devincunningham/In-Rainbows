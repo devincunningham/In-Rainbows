{
 "cells": [
  {
   "cell_type": "code",
   "execution_count": 24,
   "metadata": {
    "collapsed": true
   },
   "outputs": [],
   "source": [
    "import numpy as np\n",
    "\n",
    "def stddev(data):\n",
    "    mean = np.mean(data)\n",
    "    numerator = sum([(val - mean)**2 for i, val in enumerate(data)])\n",
    "    return np.sqrt(numerator/(len(data)-1))"
   ]
  },
  {
   "cell_type": "markdown",
   "metadata": {},
   "source": [
    "### 4.12"
   ]
  },
  {
   "cell_type": "code",
   "execution_count": 27,
   "metadata": {},
   "outputs": [
    {
     "name": "stdout",
     "output_type": "stream",
     "text": [
      "Standard deviation of the mean: 0.0235702260396\n"
     ]
    }
   ],
   "source": [
    "theta = np.array([52.5,52.3,52.6,52.5,52.7,52.4])\n",
    "print \"Standard deviation of the mean:\", stddev(theta)/len(theta)"
   ]
  },
  {
   "cell_type": "markdown",
   "metadata": {},
   "source": [
    "### 4.6"
   ]
  },
  {
   "cell_type": "code",
   "execution_count": 25,
   "metadata": {},
   "outputs": [
    {
     "name": "stdout",
     "output_type": "stream",
     "text": [
      "mean: 10.7 \n",
      "standard deviation: 3.40433160609 \n",
      "sqrt mean: 3.27108544676\n"
     ]
    }
   ],
   "source": [
    "geiger = np.array([10,13,8,15,8,13,14,13,19,8,13,13,7,8,6,8,11,12,8,7])\n",
    "geiger_mean = np.mean(geiger)\n",
    "geiger_std = stddev(geiger)\n",
    "print \"mean:\",geiger_mean, \"\\nstandard deviation:\",geiger_std, \"\\nsqrt mean:\",np.sqrt(geiger_mean)"
   ]
  },
  {
   "cell_type": "markdown",
   "metadata": {},
   "source": [
    "### 4.14"
   ]
  },
  {
   "cell_type": "code",
   "execution_count": 31,
   "metadata": {},
   "outputs": [
    {
     "name": "stdout",
     "output_type": "stream",
     "text": [
      "We expect 68% of results to lie within standard deviation.\n",
      "We only see 1 value outside of 2 standard deviations.\n"
     ]
    }
   ],
   "source": [
    "print \"We expect 68% of results to lie within standard deviation.\"\n",
    "print \"We only see\", len([val for val in geiger if val > geiger_mean + geiger_std*2 \n",
    "                          or val < geiger_mean - geiger_std*2]), \"value outside of 2 standard deviations.\""
   ]
  },
  {
   "cell_type": "markdown",
   "metadata": {},
   "source": [
    "### 4.22"
   ]
  },
  {
   "cell_type": "code",
   "execution_count": 40,
   "metadata": {},
   "outputs": [
    {
     "name": "stdout",
     "output_type": "stream",
     "text": [
      "L: [ 57.3  61.1  73.2  83.7  95. ] \n",
      "T: [ 1.521  1.567  1.718  1.835  1.952] \n",
      "G: [ 977.81327846  982.34254587  979.09424712  981.32543964  984.29145612]\n"
     ]
    },
    {
     "data": {
      "text/plain": [
       "array([ 2.27092886,  2.1489021 ,  1.7821808 ,  1.56551842,  1.38741653])"
      ]
     },
     "execution_count": 40,
     "metadata": {},
     "output_type": "execute_result"
    }
   ],
   "source": [
    "length = np.array([57.3,61.1,73.2,83.7,95.0])\n",
    "time = np.array([1.521, 1.567, 1.718, 1.835, 1.952])\n",
    "g = 4.*np.pi**2*length/time**2\n",
    "print \"L:\",length,\"\\nT:\",time,\"\\nG:\",g\n",
    "\n",
    "(length/time**2)*(.3/length + .2/time**2)"
   ]
  },
  {
   "cell_type": "markdown",
   "metadata": {},
   "source": [
    "### 4.28"
   ]
  },
  {
   "cell_type": "code",
   "execution_count": 42,
   "metadata": {},
   "outputs": [
    {
     "name": "stdout",
     "output_type": "stream",
     "text": [
      "mean: 965.638653495 \n",
      "standard deviation: 3.25571421697 \n",
      "SDOM 0.651142843394\n"
     ]
    }
   ],
   "source": [
    "length_28 = np.array([51.2,59.7,68.2,79.7,88.3])\n",
    "time_28 = np.array([1.448,1.566,1.669,1.804,1.896])\n",
    "g_28 = 4.*np.pi**2*length_28/time_28**2\n",
    "\n",
    "g_28_mean = np.mean(g_28)\n",
    "g_28_std = stddev(g_28)\n",
    "g_28_SDOM = stddev(g_28)/len(g_28)\n",
    "print \"mean:\",g_28_mean, \"\\nstandard deviation:\",g_28_std, \"\\nSDOM\", g_28_SDOM"
   ]
  }
 ],
 "metadata": {
  "kernelspec": {
   "display_name": "Python 2",
   "language": "python",
   "name": "python2"
  },
  "language_info": {
   "codemirror_mode": {
    "name": "ipython",
    "version": 2
   },
   "file_extension": ".py",
   "mimetype": "text/x-python",
   "name": "python",
   "nbconvert_exporter": "python",
   "pygments_lexer": "ipython2",
   "version": "2.7.13"
  }
 },
 "nbformat": 4,
 "nbformat_minor": 2
}
