{
 "cells": [
  {
   "cell_type": "code",
   "execution_count": null,
   "metadata": {
    "collapsed": true
   },
   "outputs": [],
   "source": [
    "import matplotlib.pyplot as plt\n",
    "import matplotlib.animation as animation\n",
    "import numpy as np\n",
    "\n",
    "class AnimatedScatter(object):\n",
    "    \"\"\"An animated scatter plot using matplotlib.animations.FuncAnimation.\"\"\"\n",
    "    def __init__(self, numpoints=50):\n",
    "        self.numpoints = numpoints\n",
    "        self.stream = self.data_stream()\n",
    "\n",
    "        # Setup the figure and axes...\n",
    "        self.fig, self.ax = plt.subplots()\n",
    "        # Then setup FuncAnimation.\n",
    "        self.ani = animation.FuncAnimation(self.fig, self.update, interval=5, \n",
    "                                           init_func=self.setup_plot, blit=True)\n",
    "\n",
    "    def setup_plot(self):\n",
    "        \"\"\"Initial drawing of the scatter plot.\"\"\"\n",
    "        x, y, s, c = next(self.stream)\n",
    "        self.scat = self.ax.scatter(x, y, c=c, s=s, animated=True)\n",
    "        self.ax.axis([-10, 10, -10, 10])\n",
    "\n",
    "        # For FuncAnimation's sake, we need to return the artist we'll be using\n",
    "        # Note that it expects a sequence of artists, thus the trailing comma.\n",
    "        return self.scat,\n",
    "\n",
    "    def data_stream(self):\n",
    "        \"\"\"Generate a random walk (brownian motion). Data is scaled to produce\n",
    "        a soft \"flickering\" effect.\"\"\"\n",
    "        data = np.random.random((4, self.numpoints))\n",
    "        xy = data[:2, :]\n",
    "        s, c = data[2:, :]\n",
    "        xy -= 0.5\n",
    "        xy *= 10\n",
    "        while True:\n",
    "            xy += 0.03 * (np.random.random((2, self.numpoints)) - 0.5)\n",
    "            s += 0.05 * (np.random.random(self.numpoints) - 0.5)\n",
    "            c += 0.02 * (np.random.random(self.numpoints) - 0.5)\n",
    "            yield data\n",
    "\n",
    "    def update(self, i):\n",
    "        \"\"\"Update the scatter plot.\"\"\"\n",
    "        data = next(self.stream)\n",
    "\n",
    "        # Set x and y data...\n",
    "        self.scat.set_offsets(data[:2, :])\n",
    "        # Set sizes...\n",
    "        self.scat._sizes = 300 * abs(data[2])**1.5 + 100\n",
    "        # Set colors..\n",
    "        self.scat.set_array(data[3])\n",
    "\n",
    "        # We need to return the updated artist for FuncAnimation to draw..\n",
    "        # Note that it expects a sequence of artists, thus the trailing comma.\n",
    "        return self.scat,\n",
    "\n",
    "    def show(self):\n",
    "        plt.show()\n",
    "\n",
    "if __name__ == '__main__':\n",
    "    a = AnimatedScatter()\n",
    "    a.show()"
   ]
  }
 ],
 "metadata": {
  "kernelspec": {
   "display_name": "Python 2",
   "language": "python",
   "name": "python2"
  },
  "language_info": {
   "codemirror_mode": {
    "name": "ipython",
    "version": 2
   },
   "file_extension": ".py",
   "mimetype": "text/x-python",
   "name": "python",
   "nbconvert_exporter": "python",
   "pygments_lexer": "ipython2",
   "version": "2.7.13"
  }
 },
 "nbformat": 4,
 "nbformat_minor": 2
}
